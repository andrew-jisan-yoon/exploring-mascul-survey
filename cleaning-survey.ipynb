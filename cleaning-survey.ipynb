{
 "cells": [
  {
   "cell_type": "markdown",
   "metadata": {},
   "source": [
    "# Cleaning and testing `masculinity-survey.csv`\n",
    "\n",
    "This notebook contains data cleaning processes for `masculinity-survey.csv` file inside `raw` folder. <br>\n",
    "`masculinity-survey.csv` file is a part of the dataset published by FiveThirtyEight and describes the responses to Masculinity Survey conducted by SurveyMonkey in partnership with FiveThirtyEight and WNYC Studios in 2018.\n",
    "\n",
    "Each step of data cleaning comes with test cases verifying the state of the data. <br>\n",
    "These test cases also serve as **specifications** for each step. Should you need to edit the data cleaning code for machine learning, you can read test cases as reminders of what each step does and edit specific section of code with confidence.\n",
    "\n",
    "# **Summary of the results**\n",
    "\n",
    "Below are the first 10 rows of datasets before and after cleaning. For more details, please refer to the full cleaning process."
   ]
  },
  {
   "cell_type": "code",
   "execution_count": 1,
   "metadata": {},
   "outputs": [],
   "source": [
    "%%capture\n",
    "from tqdm import tqdm_notebook as tqdm\n",
    "tqdm().pandas()\n",
    "\n",
    "%matplotlib inline\n",
    "import pandas as pd"
   ]
  },
  {
   "cell_type": "markdown",
   "metadata": {},
   "source": [
    "## Before the cleaning"
   ]
  },
  {
   "cell_type": "code",
   "execution_count": 2,
   "metadata": {},
   "outputs": [
    {
     "data": {
      "text/html": [
       "<div>\n",
       "<style scoped>\n",
       "    .dataframe tbody tr th:only-of-type {\n",
       "        vertical-align: middle;\n",
       "    }\n",
       "\n",
       "    .dataframe tbody tr th {\n",
       "        vertical-align: top;\n",
       "    }\n",
       "\n",
       "    .dataframe thead th {\n",
       "        text-align: right;\n",
       "    }\n",
       "</style>\n",
       "<table border=\"1\" class=\"dataframe\">\n",
       "  <thead>\n",
       "    <tr style=\"text-align: right;\">\n",
       "      <th></th>\n",
       "      <th>AMONG ADULT MEN</th>\n",
       "      <th>Unnamed: 1</th>\n",
       "      <th>Adult Men</th>\n",
       "      <th>Age</th>\n",
       "      <th>Unnamed: 4</th>\n",
       "      <th>Unnamed: 5</th>\n",
       "      <th>Race</th>\n",
       "      <th>Unnamed: 7</th>\n",
       "      <th>Children</th>\n",
       "      <th>Unnamed: 9</th>\n",
       "      <th>Sexual Orientation</th>\n",
       "      <th>Unnamed: 11</th>\n",
       "    </tr>\n",
       "  </thead>\n",
       "  <tbody>\n",
       "    <tr>\n",
       "      <th>0</th>\n",
       "      <td>NaN</td>\n",
       "      <td>NaN</td>\n",
       "      <td>NaN</td>\n",
       "      <td>18 - 34</td>\n",
       "      <td>35 - 64</td>\n",
       "      <td>65 and up</td>\n",
       "      <td>White</td>\n",
       "      <td>Non-white</td>\n",
       "      <td>Has children</td>\n",
       "      <td>No children</td>\n",
       "      <td>Straight</td>\n",
       "      <td>Gay/Bisexual</td>\n",
       "    </tr>\n",
       "    <tr>\n",
       "      <th>1</th>\n",
       "      <td>In general, how masculine or \"manly\" do you feel?</td>\n",
       "      <td>NaN</td>\n",
       "      <td>NaN</td>\n",
       "      <td>NaN</td>\n",
       "      <td>NaN</td>\n",
       "      <td>NaN</td>\n",
       "      <td>NaN</td>\n",
       "      <td>NaN</td>\n",
       "      <td>NaN</td>\n",
       "      <td>NaN</td>\n",
       "      <td>NaN</td>\n",
       "      <td>NaN</td>\n",
       "    </tr>\n",
       "    <tr>\n",
       "      <th>2</th>\n",
       "      <td>NaN</td>\n",
       "      <td>Very masculine</td>\n",
       "      <td>37%</td>\n",
       "      <td>29%</td>\n",
       "      <td>42%</td>\n",
       "      <td>37%</td>\n",
       "      <td>34%</td>\n",
       "      <td>44%</td>\n",
       "      <td>43%</td>\n",
       "      <td>30%</td>\n",
       "      <td>40%</td>\n",
       "      <td>21%</td>\n",
       "    </tr>\n",
       "    <tr>\n",
       "      <th>3</th>\n",
       "      <td>NaN</td>\n",
       "      <td>Somewhat masculine</td>\n",
       "      <td>46%</td>\n",
       "      <td>47%</td>\n",
       "      <td>46%</td>\n",
       "      <td>47%</td>\n",
       "      <td>50%</td>\n",
       "      <td>39%</td>\n",
       "      <td>47%</td>\n",
       "      <td>46%</td>\n",
       "      <td>47%</td>\n",
       "      <td>49%</td>\n",
       "    </tr>\n",
       "    <tr>\n",
       "      <th>4</th>\n",
       "      <td>NaN</td>\n",
       "      <td>Not very masculine</td>\n",
       "      <td>11%</td>\n",
       "      <td>13%</td>\n",
       "      <td>9%</td>\n",
       "      <td>13%</td>\n",
       "      <td>11%</td>\n",
       "      <td>11%</td>\n",
       "      <td>6%</td>\n",
       "      <td>17%</td>\n",
       "      <td>10%</td>\n",
       "      <td>19%</td>\n",
       "    </tr>\n",
       "  </tbody>\n",
       "</table>\n",
       "</div>"
      ],
      "text/plain": [
       "                                     AMONG ADULT MEN          Unnamed: 1  \\\n",
       "0                                                NaN                 NaN   \n",
       "1  In general, how masculine or \"manly\" do you feel?                 NaN   \n",
       "2                                                NaN      Very masculine   \n",
       "3                                                NaN  Somewhat masculine   \n",
       "4                                                NaN  Not very masculine   \n",
       "\n",
       "  Adult Men      Age Unnamed: 4 Unnamed: 5   Race Unnamed: 7      Children  \\\n",
       "0       NaN  18 - 34    35 - 64  65 and up  White  Non-white  Has children   \n",
       "1       NaN      NaN        NaN        NaN    NaN        NaN           NaN   \n",
       "2       37%      29%        42%        37%    34%        44%           43%   \n",
       "3       46%      47%        46%        47%    50%        39%           47%   \n",
       "4       11%      13%         9%        13%    11%        11%            6%   \n",
       "\n",
       "    Unnamed: 9 Sexual Orientation   Unnamed: 11  \n",
       "0  No children           Straight  Gay/Bisexual  \n",
       "1          NaN                NaN           NaN  \n",
       "2          30%                40%           21%  \n",
       "3          46%                47%           49%  \n",
       "4          17%                10%           19%  "
      ]
     },
     "execution_count": 2,
     "metadata": {},
     "output_type": "execute_result"
    }
   ],
   "source": [
    "survey_raw = pd.read_csv(\"raw/masculinity-survey.csv\")\n",
    "survey_raw.head()"
   ]
  },
  {
   "cell_type": "code",
   "execution_count": 3,
   "metadata": {},
   "outputs": [
    {
     "name": "stdout",
     "output_type": "stream",
     "text": [
      "<class 'pandas.core.frame.DataFrame'>\n",
      "RangeIndex: 232 entries, 0 to 231\n",
      "Columns: 12 entries, AMONG ADULT MEN to Unnamed: 11\n",
      "dtypes: object(12)\n",
      "memory usage: 21.9+ KB\n"
     ]
    }
   ],
   "source": [
    "survey_raw.info(verbose=False)"
   ]
  },
  {
   "cell_type": "markdown",
   "metadata": {},
   "source": [
    "## After the cleaning"
   ]
  },
  {
   "cell_type": "code",
   "execution_count": 4,
   "metadata": {},
   "outputs": [],
   "source": [
    "# survey_cleaned = pd.read_csv(\"cleaned/cleaned-survey.csv\")\n",
    "# survey_cleaned.head(10)"
   ]
  },
  {
   "cell_type": "code",
   "execution_count": 5,
   "metadata": {},
   "outputs": [],
   "source": [
    "# survey_cleaned.info(verbose=False)"
   ]
  },
  {
   "cell_type": "markdown",
   "metadata": {},
   "source": [
    "# **Full cleaning processes below**"
   ]
  },
  {
   "cell_type": "markdown",
   "metadata": {},
   "source": [
    "## Copying dataset\n",
    "\n",
    "In case we need to compare the raw and cleaned datasets later on, we create copies of the datasets and name them as `survey_wip` and `response_wip`. <br>\n",
    "`survey_wip` and `response_wip` are what we are going to work with."
   ]
  },
  {
   "cell_type": "code",
   "execution_count": 6,
   "metadata": {},
   "outputs": [],
   "source": [
    "survey_wip = survey_raw.copy()"
   ]
  },
  {
   "cell_type": "markdown",
   "metadata": {},
   "source": [
    "## Inspecting dataset\n",
    "\n",
    "`survey_wip` contains the survey results, where each row represent a question from the survey and each column represent demographic groups. <br>"
   ]
  },
  {
   "cell_type": "code",
   "execution_count": 7,
   "metadata": {},
   "outputs": [
    {
     "data": {
      "text/html": [
       "<div>\n",
       "<style scoped>\n",
       "    .dataframe tbody tr th:only-of-type {\n",
       "        vertical-align: middle;\n",
       "    }\n",
       "\n",
       "    .dataframe tbody tr th {\n",
       "        vertical-align: top;\n",
       "    }\n",
       "\n",
       "    .dataframe thead th {\n",
       "        text-align: right;\n",
       "    }\n",
       "</style>\n",
       "<table border=\"1\" class=\"dataframe\">\n",
       "  <thead>\n",
       "    <tr style=\"text-align: right;\">\n",
       "      <th></th>\n",
       "      <th>AMONG ADULT MEN</th>\n",
       "      <th>Unnamed: 1</th>\n",
       "      <th>Adult Men</th>\n",
       "      <th>Age</th>\n",
       "      <th>Unnamed: 4</th>\n",
       "      <th>Unnamed: 5</th>\n",
       "      <th>Race</th>\n",
       "      <th>Unnamed: 7</th>\n",
       "      <th>Children</th>\n",
       "      <th>Unnamed: 9</th>\n",
       "      <th>Sexual Orientation</th>\n",
       "      <th>Unnamed: 11</th>\n",
       "    </tr>\n",
       "  </thead>\n",
       "  <tbody>\n",
       "    <tr>\n",
       "      <th>0</th>\n",
       "      <td>NaN</td>\n",
       "      <td>NaN</td>\n",
       "      <td>NaN</td>\n",
       "      <td>18 - 34</td>\n",
       "      <td>35 - 64</td>\n",
       "      <td>65 and up</td>\n",
       "      <td>White</td>\n",
       "      <td>Non-white</td>\n",
       "      <td>Has children</td>\n",
       "      <td>No children</td>\n",
       "      <td>Straight</td>\n",
       "      <td>Gay/Bisexual</td>\n",
       "    </tr>\n",
       "    <tr>\n",
       "      <th>1</th>\n",
       "      <td>In general, how masculine or \"manly\" do you feel?</td>\n",
       "      <td>NaN</td>\n",
       "      <td>NaN</td>\n",
       "      <td>NaN</td>\n",
       "      <td>NaN</td>\n",
       "      <td>NaN</td>\n",
       "      <td>NaN</td>\n",
       "      <td>NaN</td>\n",
       "      <td>NaN</td>\n",
       "      <td>NaN</td>\n",
       "      <td>NaN</td>\n",
       "      <td>NaN</td>\n",
       "    </tr>\n",
       "    <tr>\n",
       "      <th>2</th>\n",
       "      <td>NaN</td>\n",
       "      <td>Very masculine</td>\n",
       "      <td>37%</td>\n",
       "      <td>29%</td>\n",
       "      <td>42%</td>\n",
       "      <td>37%</td>\n",
       "      <td>34%</td>\n",
       "      <td>44%</td>\n",
       "      <td>43%</td>\n",
       "      <td>30%</td>\n",
       "      <td>40%</td>\n",
       "      <td>21%</td>\n",
       "    </tr>\n",
       "    <tr>\n",
       "      <th>3</th>\n",
       "      <td>NaN</td>\n",
       "      <td>Somewhat masculine</td>\n",
       "      <td>46%</td>\n",
       "      <td>47%</td>\n",
       "      <td>46%</td>\n",
       "      <td>47%</td>\n",
       "      <td>50%</td>\n",
       "      <td>39%</td>\n",
       "      <td>47%</td>\n",
       "      <td>46%</td>\n",
       "      <td>47%</td>\n",
       "      <td>49%</td>\n",
       "    </tr>\n",
       "    <tr>\n",
       "      <th>4</th>\n",
       "      <td>NaN</td>\n",
       "      <td>Not very masculine</td>\n",
       "      <td>11%</td>\n",
       "      <td>13%</td>\n",
       "      <td>9%</td>\n",
       "      <td>13%</td>\n",
       "      <td>11%</td>\n",
       "      <td>11%</td>\n",
       "      <td>6%</td>\n",
       "      <td>17%</td>\n",
       "      <td>10%</td>\n",
       "      <td>19%</td>\n",
       "    </tr>\n",
       "  </tbody>\n",
       "</table>\n",
       "</div>"
      ],
      "text/plain": [
       "                                     AMONG ADULT MEN          Unnamed: 1  \\\n",
       "0                                                NaN                 NaN   \n",
       "1  In general, how masculine or \"manly\" do you feel?                 NaN   \n",
       "2                                                NaN      Very masculine   \n",
       "3                                                NaN  Somewhat masculine   \n",
       "4                                                NaN  Not very masculine   \n",
       "\n",
       "  Adult Men      Age Unnamed: 4 Unnamed: 5   Race Unnamed: 7      Children  \\\n",
       "0       NaN  18 - 34    35 - 64  65 and up  White  Non-white  Has children   \n",
       "1       NaN      NaN        NaN        NaN    NaN        NaN           NaN   \n",
       "2       37%      29%        42%        37%    34%        44%           43%   \n",
       "3       46%      47%        46%        47%    50%        39%           47%   \n",
       "4       11%      13%         9%        13%    11%        11%            6%   \n",
       "\n",
       "    Unnamed: 9 Sexual Orientation   Unnamed: 11  \n",
       "0  No children           Straight  Gay/Bisexual  \n",
       "1          NaN                NaN           NaN  \n",
       "2          30%                40%           21%  \n",
       "3          46%                47%           49%  \n",
       "4          17%                10%           19%  "
      ]
     },
     "execution_count": 7,
     "metadata": {},
     "output_type": "execute_result"
    }
   ],
   "source": [
    "survey_wip.head()"
   ]
  },
  {
   "cell_type": "code",
   "execution_count": 8,
   "metadata": {},
   "outputs": [
    {
     "data": {
      "text/html": [
       "<div>\n",
       "<style scoped>\n",
       "    .dataframe tbody tr th:only-of-type {\n",
       "        vertical-align: middle;\n",
       "    }\n",
       "\n",
       "    .dataframe tbody tr th {\n",
       "        vertical-align: top;\n",
       "    }\n",
       "\n",
       "    .dataframe thead th {\n",
       "        text-align: right;\n",
       "    }\n",
       "</style>\n",
       "<table border=\"1\" class=\"dataframe\">\n",
       "  <thead>\n",
       "    <tr style=\"text-align: right;\">\n",
       "      <th></th>\n",
       "      <th>AMONG ADULT MEN</th>\n",
       "      <th>Unnamed: 1</th>\n",
       "      <th>Adult Men</th>\n",
       "      <th>Age</th>\n",
       "      <th>Unnamed: 4</th>\n",
       "      <th>Unnamed: 5</th>\n",
       "      <th>Race</th>\n",
       "      <th>Unnamed: 7</th>\n",
       "      <th>Children</th>\n",
       "      <th>Unnamed: 9</th>\n",
       "      <th>Sexual Orientation</th>\n",
       "      <th>Unnamed: 11</th>\n",
       "    </tr>\n",
       "  </thead>\n",
       "  <tbody>\n",
       "    <tr>\n",
       "      <th>count</th>\n",
       "      <td>35</td>\n",
       "      <td>195</td>\n",
       "      <td>189</td>\n",
       "      <td>155</td>\n",
       "      <td>190</td>\n",
       "      <td>190</td>\n",
       "      <td>190</td>\n",
       "      <td>190</td>\n",
       "      <td>190</td>\n",
       "      <td>190</td>\n",
       "      <td>190</td>\n",
       "      <td>155</td>\n",
       "    </tr>\n",
       "    <tr>\n",
       "      <th>unique</th>\n",
       "      <td>35</td>\n",
       "      <td>104</td>\n",
       "      <td>59</td>\n",
       "      <td>58</td>\n",
       "      <td>62</td>\n",
       "      <td>64</td>\n",
       "      <td>61</td>\n",
       "      <td>62</td>\n",
       "      <td>62</td>\n",
       "      <td>58</td>\n",
       "      <td>61</td>\n",
       "      <td>60</td>\n",
       "    </tr>\n",
       "    <tr>\n",
       "      <th>top</th>\n",
       "      <td>AMONG EMPLOYED: Have you seen or heard of a se...</td>\n",
       "      <td>No answer</td>\n",
       "      <td>7%</td>\n",
       "      <td>0%</td>\n",
       "      <td>1%</td>\n",
       "      <td>1%</td>\n",
       "      <td>1%</td>\n",
       "      <td>5%</td>\n",
       "      <td>1%</td>\n",
       "      <td>1%</td>\n",
       "      <td>1%</td>\n",
       "      <td>0%</td>\n",
       "    </tr>\n",
       "    <tr>\n",
       "      <th>freq</th>\n",
       "      <td>1</td>\n",
       "      <td>23</td>\n",
       "      <td>11</td>\n",
       "      <td>19</td>\n",
       "      <td>17</td>\n",
       "      <td>13</td>\n",
       "      <td>13</td>\n",
       "      <td>10</td>\n",
       "      <td>19</td>\n",
       "      <td>11</td>\n",
       "      <td>13</td>\n",
       "      <td>17</td>\n",
       "    </tr>\n",
       "  </tbody>\n",
       "</table>\n",
       "</div>"
      ],
      "text/plain": [
       "                                          AMONG ADULT MEN Unnamed: 1  \\\n",
       "count                                                  35        195   \n",
       "unique                                                 35        104   \n",
       "top     AMONG EMPLOYED: Have you seen or heard of a se...  No answer   \n",
       "freq                                                    1         23   \n",
       "\n",
       "       Adult Men  Age Unnamed: 4 Unnamed: 5 Race Unnamed: 7 Children  \\\n",
       "count        189  155        190        190  190        190      190   \n",
       "unique        59   58         62         64   61         62       62   \n",
       "top           7%   0%         1%         1%   1%         5%       1%   \n",
       "freq          11   19         17         13   13         10       19   \n",
       "\n",
       "       Unnamed: 9 Sexual Orientation Unnamed: 11  \n",
       "count         190                190         155  \n",
       "unique         58                 61          60  \n",
       "top            1%                 1%          0%  \n",
       "freq           11                 13          17  "
      ]
     },
     "execution_count": 8,
     "metadata": {},
     "output_type": "execute_result"
    }
   ],
   "source": [
    "survey_wip.describe(include=\"all\")"
   ]
  },
  {
   "cell_type": "markdown",
   "metadata": {},
   "source": [
    "Fist off, `survey_wip` has non-intuitive column names. We have to rename them for readability <br>\n",
    "Second, `survey_wip` has nothing but string values. We have to change the datatypes of numerical values <br>\n",
    "Third, `survey_wip` has numerous `NaN` here and there. We have to clear them out as many as possible."
   ]
  },
  {
   "cell_type": "markdown",
   "metadata": {},
   "source": [
    "## Changing column names\n",
    "\n",
    "All the new column names will be in snake case."
   ]
  },
  {
   "cell_type": "code",
   "execution_count": 9,
   "metadata": {},
   "outputs": [
    {
     "data": {
      "text/plain": [
       "Index(['question', 'answer', 'age_all', 'age_18_34', 'age_35_64', 'age_65+',\n",
       "       'race_white', 'race_non_white', 'has_children', 'no_children',\n",
       "       'straight', 'gay_bisexual'],\n",
       "      dtype='object')"
      ]
     },
     "execution_count": 9,
     "metadata": {},
     "output_type": "execute_result"
    }
   ],
   "source": [
    "survey_mapper = {\"AMONG ADULT MEN\":\"question\", \"Unnamed: 1\":\"answer\",\n",
    "                 \"Adult Men\":\"age_all\", \"Age\":\"age_18_34\", \"Unnamed: 4\": \"age_35_64\", \"Unnamed: 5\": \"age_65+\",\n",
    "                 \"Race\":\"race_white\", 'Unnamed: 7':\"race_non_white\", \"Children\":\"has_children\", \"Unnamed: 9\":\"no_children\",\n",
    "                 \"Sexual Orientation\":\"straight\", \"Unnamed: 11\":\"gay_bisexual\"}\n",
    "survey_wip.rename(columns=survey_mapper, inplace=True)\n",
    "survey_wip.columns"
   ]
  },
  {
   "cell_type": "markdown",
   "metadata": {},
   "source": [
    "## Truncating the dataset"
   ]
  },
  {
   "cell_type": "code",
   "execution_count": 10,
   "metadata": {},
   "outputs": [],
   "source": [
    "survey_wip.drop(index=0, inplace=True) # Dropping the first row\n",
    "survey_wip.reset_index(drop=True, inplace=True)"
   ]
  },
  {
   "cell_type": "markdown",
   "metadata": {},
   "source": [
    "## Converting the numbers"
   ]
  },
  {
   "cell_type": "code",
   "execution_count": 11,
   "metadata": {},
   "outputs": [
    {
     "data": {
      "text/plain": [
       "Index(['age_all', 'age_18_34', 'age_35_64', 'age_65+', 'race_white',\n",
       "       'race_non_white', 'has_children', 'no_children', 'straight',\n",
       "       'gay_bisexual'],\n",
       "      dtype='object')"
      ]
     },
     "execution_count": 11,
     "metadata": {},
     "output_type": "execute_result"
    }
   ],
   "source": [
    "numeric_cols = survey_wip.columns[2:]\n",
    "numeric_cols"
   ]
  },
  {
   "cell_type": "code",
   "execution_count": 12,
   "metadata": {},
   "outputs": [
    {
     "data": {
      "application/vnd.jupyter.widget-view+json": {
       "model_id": "af0a0584afe24c34a2a9088e0a8fe73e",
       "version_major": 2,
       "version_minor": 0
      },
      "text/plain": [
       "HBox(children=(FloatProgress(value=0.0, max=10.0), HTML(value='')))"
      ]
     },
     "metadata": {},
     "output_type": "display_data"
    },
    {
     "name": "stdout",
     "output_type": "stream",
     "text": [
      "\n"
     ]
    },
    {
     "data": {
      "text/html": [
       "<div>\n",
       "<style scoped>\n",
       "    .dataframe tbody tr th:only-of-type {\n",
       "        vertical-align: middle;\n",
       "    }\n",
       "\n",
       "    .dataframe tbody tr th {\n",
       "        vertical-align: top;\n",
       "    }\n",
       "\n",
       "    .dataframe thead th {\n",
       "        text-align: right;\n",
       "    }\n",
       "</style>\n",
       "<table border=\"1\" class=\"dataframe\">\n",
       "  <thead>\n",
       "    <tr style=\"text-align: right;\">\n",
       "      <th></th>\n",
       "      <th>question</th>\n",
       "      <th>answer</th>\n",
       "      <th>age_all</th>\n",
       "      <th>age_18_34</th>\n",
       "      <th>age_35_64</th>\n",
       "      <th>age_65+</th>\n",
       "      <th>race_white</th>\n",
       "      <th>race_non_white</th>\n",
       "      <th>has_children</th>\n",
       "      <th>no_children</th>\n",
       "      <th>straight</th>\n",
       "      <th>gay_bisexual</th>\n",
       "    </tr>\n",
       "  </thead>\n",
       "  <tbody>\n",
       "    <tr>\n",
       "      <th>0</th>\n",
       "      <td>In general, how masculine or \"manly\" do you feel?</td>\n",
       "      <td>NaN</td>\n",
       "      <td>NaN</td>\n",
       "      <td>NaN</td>\n",
       "      <td>NaN</td>\n",
       "      <td>NaN</td>\n",
       "      <td>NaN</td>\n",
       "      <td>NaN</td>\n",
       "      <td>NaN</td>\n",
       "      <td>NaN</td>\n",
       "      <td>NaN</td>\n",
       "      <td>NaN</td>\n",
       "    </tr>\n",
       "    <tr>\n",
       "      <th>1</th>\n",
       "      <td>NaN</td>\n",
       "      <td>Very masculine</td>\n",
       "      <td>0.37</td>\n",
       "      <td>0.29</td>\n",
       "      <td>0.42</td>\n",
       "      <td>0.37</td>\n",
       "      <td>0.34</td>\n",
       "      <td>0.44</td>\n",
       "      <td>0.43</td>\n",
       "      <td>0.30</td>\n",
       "      <td>0.40</td>\n",
       "      <td>0.21</td>\n",
       "    </tr>\n",
       "    <tr>\n",
       "      <th>2</th>\n",
       "      <td>NaN</td>\n",
       "      <td>Somewhat masculine</td>\n",
       "      <td>0.46</td>\n",
       "      <td>0.47</td>\n",
       "      <td>0.46</td>\n",
       "      <td>0.47</td>\n",
       "      <td>0.50</td>\n",
       "      <td>0.39</td>\n",
       "      <td>0.47</td>\n",
       "      <td>0.46</td>\n",
       "      <td>0.47</td>\n",
       "      <td>0.49</td>\n",
       "    </tr>\n",
       "    <tr>\n",
       "      <th>3</th>\n",
       "      <td>NaN</td>\n",
       "      <td>Not very masculine</td>\n",
       "      <td>0.11</td>\n",
       "      <td>0.13</td>\n",
       "      <td>0.09</td>\n",
       "      <td>0.13</td>\n",
       "      <td>0.11</td>\n",
       "      <td>0.11</td>\n",
       "      <td>0.06</td>\n",
       "      <td>0.17</td>\n",
       "      <td>0.10</td>\n",
       "      <td>0.19</td>\n",
       "    </tr>\n",
       "    <tr>\n",
       "      <th>4</th>\n",
       "      <td>NaN</td>\n",
       "      <td>Not at all masculine</td>\n",
       "      <td>0.05</td>\n",
       "      <td>0.10</td>\n",
       "      <td>0.02</td>\n",
       "      <td>0.03</td>\n",
       "      <td>0.04</td>\n",
       "      <td>0.06</td>\n",
       "      <td>0.03</td>\n",
       "      <td>0.06</td>\n",
       "      <td>0.03</td>\n",
       "      <td>0.10</td>\n",
       "    </tr>\n",
       "  </tbody>\n",
       "</table>\n",
       "</div>"
      ],
      "text/plain": [
       "                                            question                answer  \\\n",
       "0  In general, how masculine or \"manly\" do you feel?                   NaN   \n",
       "1                                                NaN        Very masculine   \n",
       "2                                                NaN    Somewhat masculine   \n",
       "3                                                NaN    Not very masculine   \n",
       "4                                                NaN  Not at all masculine   \n",
       "\n",
       "   age_all  age_18_34  age_35_64  age_65+  race_white  race_non_white  \\\n",
       "0      NaN        NaN        NaN      NaN         NaN             NaN   \n",
       "1     0.37       0.29       0.42     0.37        0.34            0.44   \n",
       "2     0.46       0.47       0.46     0.47        0.50            0.39   \n",
       "3     0.11       0.13       0.09     0.13        0.11            0.11   \n",
       "4     0.05       0.10       0.02     0.03        0.04            0.06   \n",
       "\n",
       "   has_children  no_children  straight  gay_bisexual  \n",
       "0           NaN          NaN       NaN           NaN  \n",
       "1          0.43         0.30      0.40          0.21  \n",
       "2          0.47         0.46      0.47          0.49  \n",
       "3          0.06         0.17      0.10          0.19  \n",
       "4          0.03         0.06      0.03          0.10  "
      ]
     },
     "execution_count": 12,
     "metadata": {},
     "output_type": "execute_result"
    }
   ],
   "source": [
    "survey_wip[numeric_cols] = survey_wip[numeric_cols].progress_apply(lambda col : col.str.replace(\"%\", \"\").astype(float) / 100)\n",
    "survey_wip.head()"
   ]
  },
  {
   "cell_type": "markdown",
   "metadata": {},
   "source": [
    "# Saving the dataframe"
   ]
  },
  {
   "cell_type": "code",
   "execution_count": 13,
   "metadata": {},
   "outputs": [],
   "source": [
    "survey_wip.to_csv(\"cleaned/cleaned-survey.csv\", index=False)"
   ]
  }
 ],
 "metadata": {
  "kernelspec": {
   "display_name": "Python 3",
   "language": "python",
   "name": "python3"
  },
  "language_info": {
   "codemirror_mode": {
    "name": "ipython",
    "version": 3
   },
   "file_extension": ".py",
   "mimetype": "text/x-python",
   "name": "python",
   "nbconvert_exporter": "python",
   "pygments_lexer": "ipython3",
   "version": "3.7.3"
  }
 },
 "nbformat": 4,
 "nbformat_minor": 4
}
