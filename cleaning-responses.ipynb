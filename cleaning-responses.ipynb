{
 "cells": [
  {
   "cell_type": "markdown",
   "metadata": {},
   "source": [
    "# Cleaning and testing `raw-responses.csv`\n",
    "\n",
    "This notebook contains data cleaning processes for `raw-responses.csv` file inside `raw` folder. <br>\n",
    "`raw-responses.csv` file is a part of the dataset published by FiveThirtyEight and describes the responses to Masculinity Survey conducted by SurveyMonkey in partnership with FiveThirtyEight and WNYC Studios in 2018.\n",
    "\n",
    "Each step of data cleaning comes with test cases verifying the state of the data. <br>\n",
    "These test cases also serve as **specifications** for each step. Should you need to edit the data cleaning code for machine learning, you can read test cases as reminders of what each step does and edit specific section of code with confidence.\n",
    "\n",
    "# **Summary of the results**\n",
    "\n",
    "Below are the first 10 rows of datasets before and after cleaning. For more details, please refer to the full cleaning process."
   ]
  },
  {
   "cell_type": "code",
   "execution_count": 1,
   "metadata": {},
   "outputs": [],
   "source": [
    "%%capture\n",
    "from tqdm import tqdm_notebook as tqdm\n",
    "tqdm().pandas()\n",
    "\n",
    "%matplotlib inline\n",
    "import pandas as pd\n",
    "import numpy as np"
   ]
  },
  {
   "cell_type": "code",
   "execution_count": 2,
   "metadata": {},
   "outputs": [
    {
     "data": {
      "text/html": [
       "<div>\n",
       "<style scoped>\n",
       "    .dataframe tbody tr th:only-of-type {\n",
       "        vertical-align: middle;\n",
       "    }\n",
       "\n",
       "    .dataframe tbody tr th {\n",
       "        vertical-align: top;\n",
       "    }\n",
       "\n",
       "    .dataframe thead th {\n",
       "        text-align: right;\n",
       "    }\n",
       "</style>\n",
       "<table border=\"1\" class=\"dataframe\">\n",
       "  <thead>\n",
       "    <tr style=\"text-align: right;\">\n",
       "      <th></th>\n",
       "      <th>Unnamed: 0</th>\n",
       "      <th>StartDate</th>\n",
       "      <th>EndDate</th>\n",
       "      <th>q0001</th>\n",
       "      <th>q0002</th>\n",
       "      <th>q0004_0001</th>\n",
       "      <th>q0004_0002</th>\n",
       "      <th>q0004_0003</th>\n",
       "      <th>q0004_0004</th>\n",
       "      <th>q0004_0005</th>\n",
       "      <th>...</th>\n",
       "      <th>q0035</th>\n",
       "      <th>q0036</th>\n",
       "      <th>race2</th>\n",
       "      <th>racethn4</th>\n",
       "      <th>educ3</th>\n",
       "      <th>educ4</th>\n",
       "      <th>age3</th>\n",
       "      <th>kids</th>\n",
       "      <th>orientation</th>\n",
       "      <th>weight</th>\n",
       "    </tr>\n",
       "  </thead>\n",
       "  <tbody>\n",
       "    <tr>\n",
       "      <th>0</th>\n",
       "      <td>1</td>\n",
       "      <td>5/10/18 4:01</td>\n",
       "      <td>5/10/18 4:06</td>\n",
       "      <td>Somewhat masculine</td>\n",
       "      <td>Somewhat important</td>\n",
       "      <td>Not selected</td>\n",
       "      <td>Not selected</td>\n",
       "      <td>Not selected</td>\n",
       "      <td>Pop culture</td>\n",
       "      <td>Not selected</td>\n",
       "      <td>...</td>\n",
       "      <td>Middle Atlantic</td>\n",
       "      <td>Windows Desktop / Laptop</td>\n",
       "      <td>Non-white</td>\n",
       "      <td>Hispanic</td>\n",
       "      <td>College or more</td>\n",
       "      <td>College or more</td>\n",
       "      <td>35 - 64</td>\n",
       "      <td>No children</td>\n",
       "      <td>Gay/Bisexual</td>\n",
       "      <td>1.714026</td>\n",
       "    </tr>\n",
       "    <tr>\n",
       "      <th>1</th>\n",
       "      <td>2</td>\n",
       "      <td>5/10/18 6:30</td>\n",
       "      <td>5/10/18 6:53</td>\n",
       "      <td>Somewhat masculine</td>\n",
       "      <td>Somewhat important</td>\n",
       "      <td>Father or father figure(s)</td>\n",
       "      <td>Not selected</td>\n",
       "      <td>Not selected</td>\n",
       "      <td>Not selected</td>\n",
       "      <td>Not selected</td>\n",
       "      <td>...</td>\n",
       "      <td>East North Central</td>\n",
       "      <td>iOS Phone / Tablet</td>\n",
       "      <td>White</td>\n",
       "      <td>White</td>\n",
       "      <td>Some college</td>\n",
       "      <td>Some college</td>\n",
       "      <td>65 and up</td>\n",
       "      <td>Has children</td>\n",
       "      <td>Straight</td>\n",
       "      <td>1.247120</td>\n",
       "    </tr>\n",
       "    <tr>\n",
       "      <th>2</th>\n",
       "      <td>3</td>\n",
       "      <td>5/10/18 7:02</td>\n",
       "      <td>5/10/18 7:09</td>\n",
       "      <td>Very masculine</td>\n",
       "      <td>Not too important</td>\n",
       "      <td>Father or father figure(s)</td>\n",
       "      <td>Not selected</td>\n",
       "      <td>Not selected</td>\n",
       "      <td>Not selected</td>\n",
       "      <td>Not selected</td>\n",
       "      <td>...</td>\n",
       "      <td>East North Central</td>\n",
       "      <td>Windows Desktop / Laptop</td>\n",
       "      <td>White</td>\n",
       "      <td>White</td>\n",
       "      <td>College or more</td>\n",
       "      <td>College or more</td>\n",
       "      <td>35 - 64</td>\n",
       "      <td>Has children</td>\n",
       "      <td>Straight</td>\n",
       "      <td>0.515746</td>\n",
       "    </tr>\n",
       "    <tr>\n",
       "      <th>3</th>\n",
       "      <td>4</td>\n",
       "      <td>5/10/18 7:27</td>\n",
       "      <td>5/10/18 7:31</td>\n",
       "      <td>Very masculine</td>\n",
       "      <td>Not too important</td>\n",
       "      <td>Father or father figure(s)</td>\n",
       "      <td>Mother or mother figure(s)</td>\n",
       "      <td>Other family members</td>\n",
       "      <td>Not selected</td>\n",
       "      <td>Not selected</td>\n",
       "      <td>...</td>\n",
       "      <td>East North Central</td>\n",
       "      <td>Windows Desktop / Laptop</td>\n",
       "      <td>White</td>\n",
       "      <td>White</td>\n",
       "      <td>Some college</td>\n",
       "      <td>Some college</td>\n",
       "      <td>65 and up</td>\n",
       "      <td>Has children</td>\n",
       "      <td>No answer</td>\n",
       "      <td>0.600640</td>\n",
       "    </tr>\n",
       "    <tr>\n",
       "      <th>4</th>\n",
       "      <td>5</td>\n",
       "      <td>5/10/18 7:35</td>\n",
       "      <td>5/10/18 7:42</td>\n",
       "      <td>Very masculine</td>\n",
       "      <td>Very important</td>\n",
       "      <td>Not selected</td>\n",
       "      <td>Not selected</td>\n",
       "      <td>Other family members</td>\n",
       "      <td>Not selected</td>\n",
       "      <td>Not selected</td>\n",
       "      <td>...</td>\n",
       "      <td>East North Central</td>\n",
       "      <td>Windows Desktop / Laptop</td>\n",
       "      <td>White</td>\n",
       "      <td>White</td>\n",
       "      <td>College or more</td>\n",
       "      <td>College or more</td>\n",
       "      <td>35 - 64</td>\n",
       "      <td>No children</td>\n",
       "      <td>Straight</td>\n",
       "      <td>1.033400</td>\n",
       "    </tr>\n",
       "  </tbody>\n",
       "</table>\n",
       "<p>5 rows × 98 columns</p>\n",
       "</div>"
      ],
      "text/plain": [
       "   Unnamed: 0     StartDate       EndDate               q0001  \\\n",
       "0           1  5/10/18 4:01  5/10/18 4:06  Somewhat masculine   \n",
       "1           2  5/10/18 6:30  5/10/18 6:53  Somewhat masculine   \n",
       "2           3  5/10/18 7:02  5/10/18 7:09      Very masculine   \n",
       "3           4  5/10/18 7:27  5/10/18 7:31      Very masculine   \n",
       "4           5  5/10/18 7:35  5/10/18 7:42      Very masculine   \n",
       "\n",
       "                q0002                  q0004_0001                  q0004_0002  \\\n",
       "0  Somewhat important                Not selected                Not selected   \n",
       "1  Somewhat important  Father or father figure(s)                Not selected   \n",
       "2   Not too important  Father or father figure(s)                Not selected   \n",
       "3   Not too important  Father or father figure(s)  Mother or mother figure(s)   \n",
       "4      Very important                Not selected                Not selected   \n",
       "\n",
       "             q0004_0003    q0004_0004    q0004_0005  ...               q0035  \\\n",
       "0          Not selected   Pop culture  Not selected  ...     Middle Atlantic   \n",
       "1          Not selected  Not selected  Not selected  ...  East North Central   \n",
       "2          Not selected  Not selected  Not selected  ...  East North Central   \n",
       "3  Other family members  Not selected  Not selected  ...  East North Central   \n",
       "4  Other family members  Not selected  Not selected  ...  East North Central   \n",
       "\n",
       "                      q0036      race2  racethn4            educ3  \\\n",
       "0  Windows Desktop / Laptop  Non-white  Hispanic  College or more   \n",
       "1        iOS Phone / Tablet      White     White     Some college   \n",
       "2  Windows Desktop / Laptop      White     White  College or more   \n",
       "3  Windows Desktop / Laptop      White     White     Some college   \n",
       "4  Windows Desktop / Laptop      White     White  College or more   \n",
       "\n",
       "             educ4       age3          kids   orientation    weight  \n",
       "0  College or more    35 - 64   No children  Gay/Bisexual  1.714026  \n",
       "1     Some college  65 and up  Has children      Straight  1.247120  \n",
       "2  College or more    35 - 64  Has children      Straight  0.515746  \n",
       "3     Some college  65 and up  Has children     No answer  0.600640  \n",
       "4  College or more    35 - 64   No children      Straight  1.033400  \n",
       "\n",
       "[5 rows x 98 columns]"
      ]
     },
     "execution_count": 2,
     "metadata": {},
     "output_type": "execute_result"
    }
   ],
   "source": [
    "response_raw = pd.read_csv(\"raw/raw-responses.csv\")\n",
    "response_raw.head()"
   ]
  },
  {
   "cell_type": "code",
   "execution_count": 3,
   "metadata": {},
   "outputs": [],
   "source": [
    "response_cleaned = pd.read_csv(\"cleaned/raw-responses-clean.csv\")\n",
    "response_cleaned.head()"
   ]
  },
  {
   "cell_type": "markdown",
   "metadata": {},
   "source": [
    "# **Full cleaning processes below**"
   ]
  },
  {
   "cell_type": "markdown",
   "metadata": {},
   "source": [
    "## Copying dataset\n",
    "\n",
    "In case we need to compare the raw and cleaned datasets later on, we create copies of the datasets and name them as `survey_wip` and `response_wip`. <br>\n",
    "`survey_wip` and `response_wip` are what we are going to work with."
   ]
  },
  {
   "cell_type": "code",
   "execution_count": 4,
   "metadata": {},
   "outputs": [],
   "source": [
    "response_wip = response_raw.copy()"
   ]
  },
  {
   "cell_type": "markdown",
   "metadata": {},
   "source": [
    "## Inspecting dataset\n",
    "\n",
    "`response_wip` contains the responses to the survey, where each row represent a survey respondent and each column represent survey questions."
   ]
  },
  {
   "cell_type": "code",
   "execution_count": 5,
   "metadata": {},
   "outputs": [
    {
     "data": {
      "text/html": [
       "<div>\n",
       "<style scoped>\n",
       "    .dataframe tbody tr th:only-of-type {\n",
       "        vertical-align: middle;\n",
       "    }\n",
       "\n",
       "    .dataframe tbody tr th {\n",
       "        vertical-align: top;\n",
       "    }\n",
       "\n",
       "    .dataframe thead th {\n",
       "        text-align: right;\n",
       "    }\n",
       "</style>\n",
       "<table border=\"1\" class=\"dataframe\">\n",
       "  <thead>\n",
       "    <tr style=\"text-align: right;\">\n",
       "      <th></th>\n",
       "      <th>Unnamed: 0</th>\n",
       "      <th>StartDate</th>\n",
       "      <th>EndDate</th>\n",
       "      <th>q0001</th>\n",
       "      <th>q0002</th>\n",
       "      <th>q0004_0001</th>\n",
       "      <th>q0004_0002</th>\n",
       "      <th>q0004_0003</th>\n",
       "      <th>q0004_0004</th>\n",
       "      <th>q0004_0005</th>\n",
       "      <th>...</th>\n",
       "      <th>q0035</th>\n",
       "      <th>q0036</th>\n",
       "      <th>race2</th>\n",
       "      <th>racethn4</th>\n",
       "      <th>educ3</th>\n",
       "      <th>educ4</th>\n",
       "      <th>age3</th>\n",
       "      <th>kids</th>\n",
       "      <th>orientation</th>\n",
       "      <th>weight</th>\n",
       "    </tr>\n",
       "  </thead>\n",
       "  <tbody>\n",
       "    <tr>\n",
       "      <th>0</th>\n",
       "      <td>1</td>\n",
       "      <td>5/10/18 4:01</td>\n",
       "      <td>5/10/18 4:06</td>\n",
       "      <td>Somewhat masculine</td>\n",
       "      <td>Somewhat important</td>\n",
       "      <td>Not selected</td>\n",
       "      <td>Not selected</td>\n",
       "      <td>Not selected</td>\n",
       "      <td>Pop culture</td>\n",
       "      <td>Not selected</td>\n",
       "      <td>...</td>\n",
       "      <td>Middle Atlantic</td>\n",
       "      <td>Windows Desktop / Laptop</td>\n",
       "      <td>Non-white</td>\n",
       "      <td>Hispanic</td>\n",
       "      <td>College or more</td>\n",
       "      <td>College or more</td>\n",
       "      <td>35 - 64</td>\n",
       "      <td>No children</td>\n",
       "      <td>Gay/Bisexual</td>\n",
       "      <td>1.714026</td>\n",
       "    </tr>\n",
       "    <tr>\n",
       "      <th>1</th>\n",
       "      <td>2</td>\n",
       "      <td>5/10/18 6:30</td>\n",
       "      <td>5/10/18 6:53</td>\n",
       "      <td>Somewhat masculine</td>\n",
       "      <td>Somewhat important</td>\n",
       "      <td>Father or father figure(s)</td>\n",
       "      <td>Not selected</td>\n",
       "      <td>Not selected</td>\n",
       "      <td>Not selected</td>\n",
       "      <td>Not selected</td>\n",
       "      <td>...</td>\n",
       "      <td>East North Central</td>\n",
       "      <td>iOS Phone / Tablet</td>\n",
       "      <td>White</td>\n",
       "      <td>White</td>\n",
       "      <td>Some college</td>\n",
       "      <td>Some college</td>\n",
       "      <td>65 and up</td>\n",
       "      <td>Has children</td>\n",
       "      <td>Straight</td>\n",
       "      <td>1.247120</td>\n",
       "    </tr>\n",
       "    <tr>\n",
       "      <th>2</th>\n",
       "      <td>3</td>\n",
       "      <td>5/10/18 7:02</td>\n",
       "      <td>5/10/18 7:09</td>\n",
       "      <td>Very masculine</td>\n",
       "      <td>Not too important</td>\n",
       "      <td>Father or father figure(s)</td>\n",
       "      <td>Not selected</td>\n",
       "      <td>Not selected</td>\n",
       "      <td>Not selected</td>\n",
       "      <td>Not selected</td>\n",
       "      <td>...</td>\n",
       "      <td>East North Central</td>\n",
       "      <td>Windows Desktop / Laptop</td>\n",
       "      <td>White</td>\n",
       "      <td>White</td>\n",
       "      <td>College or more</td>\n",
       "      <td>College or more</td>\n",
       "      <td>35 - 64</td>\n",
       "      <td>Has children</td>\n",
       "      <td>Straight</td>\n",
       "      <td>0.515746</td>\n",
       "    </tr>\n",
       "    <tr>\n",
       "      <th>3</th>\n",
       "      <td>4</td>\n",
       "      <td>5/10/18 7:27</td>\n",
       "      <td>5/10/18 7:31</td>\n",
       "      <td>Very masculine</td>\n",
       "      <td>Not too important</td>\n",
       "      <td>Father or father figure(s)</td>\n",
       "      <td>Mother or mother figure(s)</td>\n",
       "      <td>Other family members</td>\n",
       "      <td>Not selected</td>\n",
       "      <td>Not selected</td>\n",
       "      <td>...</td>\n",
       "      <td>East North Central</td>\n",
       "      <td>Windows Desktop / Laptop</td>\n",
       "      <td>White</td>\n",
       "      <td>White</td>\n",
       "      <td>Some college</td>\n",
       "      <td>Some college</td>\n",
       "      <td>65 and up</td>\n",
       "      <td>Has children</td>\n",
       "      <td>No answer</td>\n",
       "      <td>0.600640</td>\n",
       "    </tr>\n",
       "    <tr>\n",
       "      <th>4</th>\n",
       "      <td>5</td>\n",
       "      <td>5/10/18 7:35</td>\n",
       "      <td>5/10/18 7:42</td>\n",
       "      <td>Very masculine</td>\n",
       "      <td>Very important</td>\n",
       "      <td>Not selected</td>\n",
       "      <td>Not selected</td>\n",
       "      <td>Other family members</td>\n",
       "      <td>Not selected</td>\n",
       "      <td>Not selected</td>\n",
       "      <td>...</td>\n",
       "      <td>East North Central</td>\n",
       "      <td>Windows Desktop / Laptop</td>\n",
       "      <td>White</td>\n",
       "      <td>White</td>\n",
       "      <td>College or more</td>\n",
       "      <td>College or more</td>\n",
       "      <td>35 - 64</td>\n",
       "      <td>No children</td>\n",
       "      <td>Straight</td>\n",
       "      <td>1.033400</td>\n",
       "    </tr>\n",
       "  </tbody>\n",
       "</table>\n",
       "<p>5 rows × 98 columns</p>\n",
       "</div>"
      ],
      "text/plain": [
       "   Unnamed: 0     StartDate       EndDate               q0001  \\\n",
       "0           1  5/10/18 4:01  5/10/18 4:06  Somewhat masculine   \n",
       "1           2  5/10/18 6:30  5/10/18 6:53  Somewhat masculine   \n",
       "2           3  5/10/18 7:02  5/10/18 7:09      Very masculine   \n",
       "3           4  5/10/18 7:27  5/10/18 7:31      Very masculine   \n",
       "4           5  5/10/18 7:35  5/10/18 7:42      Very masculine   \n",
       "\n",
       "                q0002                  q0004_0001                  q0004_0002  \\\n",
       "0  Somewhat important                Not selected                Not selected   \n",
       "1  Somewhat important  Father or father figure(s)                Not selected   \n",
       "2   Not too important  Father or father figure(s)                Not selected   \n",
       "3   Not too important  Father or father figure(s)  Mother or mother figure(s)   \n",
       "4      Very important                Not selected                Not selected   \n",
       "\n",
       "             q0004_0003    q0004_0004    q0004_0005  ...               q0035  \\\n",
       "0          Not selected   Pop culture  Not selected  ...     Middle Atlantic   \n",
       "1          Not selected  Not selected  Not selected  ...  East North Central   \n",
       "2          Not selected  Not selected  Not selected  ...  East North Central   \n",
       "3  Other family members  Not selected  Not selected  ...  East North Central   \n",
       "4  Other family members  Not selected  Not selected  ...  East North Central   \n",
       "\n",
       "                      q0036      race2  racethn4            educ3  \\\n",
       "0  Windows Desktop / Laptop  Non-white  Hispanic  College or more   \n",
       "1        iOS Phone / Tablet      White     White     Some college   \n",
       "2  Windows Desktop / Laptop      White     White  College or more   \n",
       "3  Windows Desktop / Laptop      White     White     Some college   \n",
       "4  Windows Desktop / Laptop      White     White  College or more   \n",
       "\n",
       "             educ4       age3          kids   orientation    weight  \n",
       "0  College or more    35 - 64   No children  Gay/Bisexual  1.714026  \n",
       "1     Some college  65 and up  Has children      Straight  1.247120  \n",
       "2  College or more    35 - 64  Has children      Straight  0.515746  \n",
       "3     Some college  65 and up  Has children     No answer  0.600640  \n",
       "4  College or more    35 - 64   No children      Straight  1.033400  \n",
       "\n",
       "[5 rows x 98 columns]"
      ]
     },
     "execution_count": 5,
     "metadata": {},
     "output_type": "execute_result"
    }
   ],
   "source": [
    "response_wip.head()"
   ]
  },
  {
   "cell_type": "code",
   "execution_count": 6,
   "metadata": {},
   "outputs": [
    {
     "data": {
      "text/html": [
       "<div>\n",
       "<style scoped>\n",
       "    .dataframe tbody tr th:only-of-type {\n",
       "        vertical-align: middle;\n",
       "    }\n",
       "\n",
       "    .dataframe tbody tr th {\n",
       "        vertical-align: top;\n",
       "    }\n",
       "\n",
       "    .dataframe thead th {\n",
       "        text-align: right;\n",
       "    }\n",
       "</style>\n",
       "<table border=\"1\" class=\"dataframe\">\n",
       "  <thead>\n",
       "    <tr style=\"text-align: right;\">\n",
       "      <th></th>\n",
       "      <th>Unnamed: 0</th>\n",
       "      <th>StartDate</th>\n",
       "      <th>EndDate</th>\n",
       "      <th>q0001</th>\n",
       "      <th>q0002</th>\n",
       "      <th>q0004_0001</th>\n",
       "      <th>q0004_0002</th>\n",
       "      <th>q0004_0003</th>\n",
       "      <th>q0004_0004</th>\n",
       "      <th>q0004_0005</th>\n",
       "      <th>...</th>\n",
       "      <th>q0035</th>\n",
       "      <th>q0036</th>\n",
       "      <th>race2</th>\n",
       "      <th>racethn4</th>\n",
       "      <th>educ3</th>\n",
       "      <th>educ4</th>\n",
       "      <th>age3</th>\n",
       "      <th>kids</th>\n",
       "      <th>orientation</th>\n",
       "      <th>weight</th>\n",
       "    </tr>\n",
       "  </thead>\n",
       "  <tbody>\n",
       "    <tr>\n",
       "      <th>count</th>\n",
       "      <td>1615.000000</td>\n",
       "      <td>1615</td>\n",
       "      <td>1615</td>\n",
       "      <td>1615</td>\n",
       "      <td>1615</td>\n",
       "      <td>1615</td>\n",
       "      <td>1615</td>\n",
       "      <td>1615</td>\n",
       "      <td>1615</td>\n",
       "      <td>1615</td>\n",
       "      <td>...</td>\n",
       "      <td>1595</td>\n",
       "      <td>1613</td>\n",
       "      <td>1615</td>\n",
       "      <td>1615</td>\n",
       "      <td>1615</td>\n",
       "      <td>1615</td>\n",
       "      <td>1615</td>\n",
       "      <td>1606</td>\n",
       "      <td>1615</td>\n",
       "      <td>1615.000000</td>\n",
       "    </tr>\n",
       "    <tr>\n",
       "      <th>unique</th>\n",
       "      <td>NaN</td>\n",
       "      <td>1378</td>\n",
       "      <td>1377</td>\n",
       "      <td>5</td>\n",
       "      <td>5</td>\n",
       "      <td>2</td>\n",
       "      <td>2</td>\n",
       "      <td>2</td>\n",
       "      <td>2</td>\n",
       "      <td>2</td>\n",
       "      <td>...</td>\n",
       "      <td>9</td>\n",
       "      <td>5</td>\n",
       "      <td>2</td>\n",
       "      <td>4</td>\n",
       "      <td>3</td>\n",
       "      <td>4</td>\n",
       "      <td>3</td>\n",
       "      <td>2</td>\n",
       "      <td>4</td>\n",
       "      <td>NaN</td>\n",
       "    </tr>\n",
       "    <tr>\n",
       "      <th>top</th>\n",
       "      <td>NaN</td>\n",
       "      <td>5/17/18 6:48</td>\n",
       "      <td>5/17/18 7:35</td>\n",
       "      <td>Somewhat masculine</td>\n",
       "      <td>Somewhat important</td>\n",
       "      <td>Father or father figure(s)</td>\n",
       "      <td>Not selected</td>\n",
       "      <td>Not selected</td>\n",
       "      <td>Not selected</td>\n",
       "      <td>Not selected</td>\n",
       "      <td>...</td>\n",
       "      <td>South Atlantic</td>\n",
       "      <td>Windows Desktop / Laptop</td>\n",
       "      <td>White</td>\n",
       "      <td>White</td>\n",
       "      <td>College or more</td>\n",
       "      <td>College or more</td>\n",
       "      <td>35 - 64</td>\n",
       "      <td>Has children</td>\n",
       "      <td>Straight</td>\n",
       "      <td>NaN</td>\n",
       "    </tr>\n",
       "    <tr>\n",
       "      <th>freq</th>\n",
       "      <td>NaN</td>\n",
       "      <td>4</td>\n",
       "      <td>4</td>\n",
       "      <td>826</td>\n",
       "      <td>628</td>\n",
       "      <td>1109</td>\n",
       "      <td>960</td>\n",
       "      <td>1051</td>\n",
       "      <td>1312</td>\n",
       "      <td>1056</td>\n",
       "      <td>...</td>\n",
       "      <td>302</td>\n",
       "      <td>880</td>\n",
       "      <td>1351</td>\n",
       "      <td>1351</td>\n",
       "      <td>997</td>\n",
       "      <td>515</td>\n",
       "      <td>855</td>\n",
       "      <td>1065</td>\n",
       "      <td>1408</td>\n",
       "      <td>NaN</td>\n",
       "    </tr>\n",
       "    <tr>\n",
       "      <th>mean</th>\n",
       "      <td>808.000000</td>\n",
       "      <td>NaN</td>\n",
       "      <td>NaN</td>\n",
       "      <td>NaN</td>\n",
       "      <td>NaN</td>\n",
       "      <td>NaN</td>\n",
       "      <td>NaN</td>\n",
       "      <td>NaN</td>\n",
       "      <td>NaN</td>\n",
       "      <td>NaN</td>\n",
       "      <td>...</td>\n",
       "      <td>NaN</td>\n",
       "      <td>NaN</td>\n",
       "      <td>NaN</td>\n",
       "      <td>NaN</td>\n",
       "      <td>NaN</td>\n",
       "      <td>NaN</td>\n",
       "      <td>NaN</td>\n",
       "      <td>NaN</td>\n",
       "      <td>NaN</td>\n",
       "      <td>1.000000</td>\n",
       "    </tr>\n",
       "    <tr>\n",
       "      <th>std</th>\n",
       "      <td>466.354658</td>\n",
       "      <td>NaN</td>\n",
       "      <td>NaN</td>\n",
       "      <td>NaN</td>\n",
       "      <td>NaN</td>\n",
       "      <td>NaN</td>\n",
       "      <td>NaN</td>\n",
       "      <td>NaN</td>\n",
       "      <td>NaN</td>\n",
       "      <td>NaN</td>\n",
       "      <td>...</td>\n",
       "      <td>NaN</td>\n",
       "      <td>NaN</td>\n",
       "      <td>NaN</td>\n",
       "      <td>NaN</td>\n",
       "      <td>NaN</td>\n",
       "      <td>NaN</td>\n",
       "      <td>NaN</td>\n",
       "      <td>NaN</td>\n",
       "      <td>NaN</td>\n",
       "      <td>1.438996</td>\n",
       "    </tr>\n",
       "    <tr>\n",
       "      <th>min</th>\n",
       "      <td>1.000000</td>\n",
       "      <td>NaN</td>\n",
       "      <td>NaN</td>\n",
       "      <td>NaN</td>\n",
       "      <td>NaN</td>\n",
       "      <td>NaN</td>\n",
       "      <td>NaN</td>\n",
       "      <td>NaN</td>\n",
       "      <td>NaN</td>\n",
       "      <td>NaN</td>\n",
       "      <td>...</td>\n",
       "      <td>NaN</td>\n",
       "      <td>NaN</td>\n",
       "      <td>NaN</td>\n",
       "      <td>NaN</td>\n",
       "      <td>NaN</td>\n",
       "      <td>NaN</td>\n",
       "      <td>NaN</td>\n",
       "      <td>NaN</td>\n",
       "      <td>NaN</td>\n",
       "      <td>0.019744</td>\n",
       "    </tr>\n",
       "    <tr>\n",
       "      <th>25%</th>\n",
       "      <td>404.500000</td>\n",
       "      <td>NaN</td>\n",
       "      <td>NaN</td>\n",
       "      <td>NaN</td>\n",
       "      <td>NaN</td>\n",
       "      <td>NaN</td>\n",
       "      <td>NaN</td>\n",
       "      <td>NaN</td>\n",
       "      <td>NaN</td>\n",
       "      <td>NaN</td>\n",
       "      <td>...</td>\n",
       "      <td>NaN</td>\n",
       "      <td>NaN</td>\n",
       "      <td>NaN</td>\n",
       "      <td>NaN</td>\n",
       "      <td>NaN</td>\n",
       "      <td>NaN</td>\n",
       "      <td>NaN</td>\n",
       "      <td>NaN</td>\n",
       "      <td>NaN</td>\n",
       "      <td>0.102580</td>\n",
       "    </tr>\n",
       "    <tr>\n",
       "      <th>50%</th>\n",
       "      <td>808.000000</td>\n",
       "      <td>NaN</td>\n",
       "      <td>NaN</td>\n",
       "      <td>NaN</td>\n",
       "      <td>NaN</td>\n",
       "      <td>NaN</td>\n",
       "      <td>NaN</td>\n",
       "      <td>NaN</td>\n",
       "      <td>NaN</td>\n",
       "      <td>NaN</td>\n",
       "      <td>...</td>\n",
       "      <td>NaN</td>\n",
       "      <td>NaN</td>\n",
       "      <td>NaN</td>\n",
       "      <td>NaN</td>\n",
       "      <td>NaN</td>\n",
       "      <td>NaN</td>\n",
       "      <td>NaN</td>\n",
       "      <td>NaN</td>\n",
       "      <td>NaN</td>\n",
       "      <td>0.596892</td>\n",
       "    </tr>\n",
       "    <tr>\n",
       "      <th>75%</th>\n",
       "      <td>1211.500000</td>\n",
       "      <td>NaN</td>\n",
       "      <td>NaN</td>\n",
       "      <td>NaN</td>\n",
       "      <td>NaN</td>\n",
       "      <td>NaN</td>\n",
       "      <td>NaN</td>\n",
       "      <td>NaN</td>\n",
       "      <td>NaN</td>\n",
       "      <td>NaN</td>\n",
       "      <td>...</td>\n",
       "      <td>NaN</td>\n",
       "      <td>NaN</td>\n",
       "      <td>NaN</td>\n",
       "      <td>NaN</td>\n",
       "      <td>NaN</td>\n",
       "      <td>NaN</td>\n",
       "      <td>NaN</td>\n",
       "      <td>NaN</td>\n",
       "      <td>NaN</td>\n",
       "      <td>1.010046</td>\n",
       "    </tr>\n",
       "    <tr>\n",
       "      <th>max</th>\n",
       "      <td>1615.000000</td>\n",
       "      <td>NaN</td>\n",
       "      <td>NaN</td>\n",
       "      <td>NaN</td>\n",
       "      <td>NaN</td>\n",
       "      <td>NaN</td>\n",
       "      <td>NaN</td>\n",
       "      <td>NaN</td>\n",
       "      <td>NaN</td>\n",
       "      <td>NaN</td>\n",
       "      <td>...</td>\n",
       "      <td>NaN</td>\n",
       "      <td>NaN</td>\n",
       "      <td>NaN</td>\n",
       "      <td>NaN</td>\n",
       "      <td>NaN</td>\n",
       "      <td>NaN</td>\n",
       "      <td>NaN</td>\n",
       "      <td>NaN</td>\n",
       "      <td>NaN</td>\n",
       "      <td>8.676606</td>\n",
       "    </tr>\n",
       "  </tbody>\n",
       "</table>\n",
       "<p>11 rows × 98 columns</p>\n",
       "</div>"
      ],
      "text/plain": [
       "         Unnamed: 0     StartDate       EndDate               q0001  \\\n",
       "count   1615.000000          1615          1615                1615   \n",
       "unique          NaN          1378          1377                   5   \n",
       "top             NaN  5/17/18 6:48  5/17/18 7:35  Somewhat masculine   \n",
       "freq            NaN             4             4                 826   \n",
       "mean     808.000000           NaN           NaN                 NaN   \n",
       "std      466.354658           NaN           NaN                 NaN   \n",
       "min        1.000000           NaN           NaN                 NaN   \n",
       "25%      404.500000           NaN           NaN                 NaN   \n",
       "50%      808.000000           NaN           NaN                 NaN   \n",
       "75%     1211.500000           NaN           NaN                 NaN   \n",
       "max     1615.000000           NaN           NaN                 NaN   \n",
       "\n",
       "                     q0002                  q0004_0001    q0004_0002  \\\n",
       "count                 1615                        1615          1615   \n",
       "unique                   5                           2             2   \n",
       "top     Somewhat important  Father or father figure(s)  Not selected   \n",
       "freq                   628                        1109           960   \n",
       "mean                   NaN                         NaN           NaN   \n",
       "std                    NaN                         NaN           NaN   \n",
       "min                    NaN                         NaN           NaN   \n",
       "25%                    NaN                         NaN           NaN   \n",
       "50%                    NaN                         NaN           NaN   \n",
       "75%                    NaN                         NaN           NaN   \n",
       "max                    NaN                         NaN           NaN   \n",
       "\n",
       "          q0004_0003    q0004_0004    q0004_0005  ...           q0035  \\\n",
       "count           1615          1615          1615  ...            1595   \n",
       "unique             2             2             2  ...               9   \n",
       "top     Not selected  Not selected  Not selected  ...  South Atlantic   \n",
       "freq            1051          1312          1056  ...             302   \n",
       "mean             NaN           NaN           NaN  ...             NaN   \n",
       "std              NaN           NaN           NaN  ...             NaN   \n",
       "min              NaN           NaN           NaN  ...             NaN   \n",
       "25%              NaN           NaN           NaN  ...             NaN   \n",
       "50%              NaN           NaN           NaN  ...             NaN   \n",
       "75%              NaN           NaN           NaN  ...             NaN   \n",
       "max              NaN           NaN           NaN  ...             NaN   \n",
       "\n",
       "                           q0036  race2 racethn4            educ3  \\\n",
       "count                       1613   1615     1615             1615   \n",
       "unique                         5      2        4                3   \n",
       "top     Windows Desktop / Laptop  White    White  College or more   \n",
       "freq                         880   1351     1351              997   \n",
       "mean                         NaN    NaN      NaN              NaN   \n",
       "std                          NaN    NaN      NaN              NaN   \n",
       "min                          NaN    NaN      NaN              NaN   \n",
       "25%                          NaN    NaN      NaN              NaN   \n",
       "50%                          NaN    NaN      NaN              NaN   \n",
       "75%                          NaN    NaN      NaN              NaN   \n",
       "max                          NaN    NaN      NaN              NaN   \n",
       "\n",
       "                  educ4     age3          kids orientation       weight  \n",
       "count              1615     1615          1606        1615  1615.000000  \n",
       "unique                4        3             2           4          NaN  \n",
       "top     College or more  35 - 64  Has children    Straight          NaN  \n",
       "freq                515      855          1065        1408          NaN  \n",
       "mean                NaN      NaN           NaN         NaN     1.000000  \n",
       "std                 NaN      NaN           NaN         NaN     1.438996  \n",
       "min                 NaN      NaN           NaN         NaN     0.019744  \n",
       "25%                 NaN      NaN           NaN         NaN     0.102580  \n",
       "50%                 NaN      NaN           NaN         NaN     0.596892  \n",
       "75%                 NaN      NaN           NaN         NaN     1.010046  \n",
       "max                 NaN      NaN           NaN         NaN     8.676606  \n",
       "\n",
       "[11 rows x 98 columns]"
      ]
     },
     "execution_count": 6,
     "metadata": {},
     "output_type": "execute_result"
    }
   ],
   "source": [
    "response_wip.describe(include='all')"
   ]
  },
  {
   "cell_type": "markdown",
   "metadata": {},
   "source": [
    "First, `response_wip` also has ambiguous column names. We have to rename them for readability <br>\n",
    "Second, `response_wip` has string datatypes for datetime data and survey answers. We have to convert them into more appropriate datatypes. <br>\n",
    "Third, `response_wip` has numerous `Not selected` here and there. We have to convert them into `NaN`. <br>\n",
    "Fourth, `response_wip` has a column named `Unnamed: 0`, which is not serving any purpose other than index, which we already have. Drop the column."
   ]
  },
  {
   "cell_type": "markdown",
   "metadata": {},
   "source": [
    "## Changing column names\n",
    "\n",
    "All the new column names will be in snake case."
   ]
  },
  {
   "cell_type": "code",
   "execution_count": 7,
   "metadata": {},
   "outputs": [
    {
     "data": {
      "text/plain": [
       "Index(['Unnamed: 0', 'start_date', 'end_date', 'q01', 'q02', 'q04_01',\n",
       "       'q04_02', 'q04_03', 'q04_04', 'q04_05', 'q04_06', 'q05', 'q07_01',\n",
       "       'q07_02', 'q07_03', 'q07_04', 'q07_05', 'q07_06', 'q07_07', 'q07_08',\n",
       "       'q07_09', 'q07_10', 'q07_11', 'q08_01', 'q08_02', 'q08_03', 'q08_04',\n",
       "       'q08_05', 'q08_06', 'q08_07', 'q08_08', 'q08_09', 'q08_10', 'q08_11',\n",
       "       'q08_12', 'q09', 'q10_01', 'q10_02', 'q10_03', 'q10_04', 'q10_05',\n",
       "       'q10_06', 'q10_07', 'q10_08', 'q11_01', 'q11_02', 'q11_03', 'q11_04',\n",
       "       'q11_05', 'q12_01', 'q12_02', 'q12_03', 'q12_04', 'q12_05', 'q12_06',\n",
       "       'q12_07', 'q13', 'q14', 'q15', 'q17', 'q18', 'q19_01', 'q19_02',\n",
       "       'q19_03', 'q19_04', 'q19_05', 'q19_06', 'q19_07', 'q20_01', 'q20_02',\n",
       "       'q20_03', 'q20_04', 'q20_05', 'q20_06', 'q21_01', 'q21_02', 'q21_03',\n",
       "       'q21_04', 'q22', 'q24', 'q25_01', 'q25_02', 'q25_03', 'q26', 'q28',\n",
       "       'q29', 'q30', 'q34', 'q35', 'q36', 'race2', 'racethn4', 'educ3',\n",
       "       'educ4', 'age3', 'has_children', 'orientation', 'weight'],\n",
       "      dtype='object')"
      ]
     },
     "execution_count": 7,
     "metadata": {},
     "output_type": "execute_result"
    }
   ],
   "source": [
    "response_new_cols = response_wip.columns.copy()\n",
    "\n",
    "response_new_cols = response_new_cols.str.replace(r\"(?<=[q_])00\", \"\") # Making question column names shorter\n",
    "response_new_cols = response_new_cols.str.replace(\"StartDate\", \"start_date\")\n",
    "response_new_cols = response_new_cols.str.replace(\"EndDate\", \"end_date\")\n",
    "response_new_cols = response_new_cols.str.replace(\"kids\", \"has_children\")\n",
    "\n",
    "response_mapper = dict(zip(response_wip.columns, response_new_cols))\n",
    "response_wip.rename(columns=response_mapper, inplace=True)\n",
    "response_wip.columns"
   ]
  },
  {
   "cell_type": "markdown",
   "metadata": {},
   "source": [
    "## Truncating the dataset"
   ]
  },
  {
   "cell_type": "code",
   "execution_count": 8,
   "metadata": {},
   "outputs": [],
   "source": [
    "response_wip.drop(columns=\"Unnamed: 0\", inplace=True) # Dropping the column that indexes rows"
   ]
  },
  {
   "cell_type": "markdown",
   "metadata": {},
   "source": [
    "## Dropping redundant columns in `response_wip`\n",
    "\n",
    "Out of the columns in `response_wip`, `race2` and `racethn4`, `educ3` and `educ4` are respectively redundant. <br>\n",
    "Therefore, it is best to drop the less precise of each pair for readability."
   ]
  },
  {
   "cell_type": "code",
   "execution_count": 9,
   "metadata": {},
   "outputs": [
    {
     "data": {
      "text/plain": [
       "White        1351\n",
       "Non-white     264\n",
       "Name: race2, dtype: int64"
      ]
     },
     "execution_count": 9,
     "metadata": {},
     "output_type": "execute_result"
    }
   ],
   "source": [
    "response_wip['race2'].value_counts()"
   ]
  },
  {
   "cell_type": "code",
   "execution_count": 10,
   "metadata": {},
   "outputs": [
    {
     "data": {
      "text/plain": [
       "White       1351\n",
       "Other        121\n",
       "Black         72\n",
       "Hispanic      71\n",
       "Name: racethn4, dtype: int64"
      ]
     },
     "execution_count": 10,
     "metadata": {},
     "output_type": "execute_result"
    }
   ],
   "source": [
    "response_wip['racethn4'].value_counts()"
   ]
  },
  {
   "cell_type": "markdown",
   "metadata": {},
   "source": [
    "It seems clear that `racethn4` is the more precise. <br>\n",
    "But to absolutely make sure, let's implement a test to check if `race2` and `racethn4` match."
   ]
  },
  {
   "cell_type": "code",
   "execution_count": 11,
   "metadata": {},
   "outputs": [],
   "source": [
    "def test_race_match(response):\n",
    "    \"\"\"\n",
    "    Tests row-wise if `race2` and `racethn4` match as below :\n",
    "    \n",
    "    race2     : racethn4\n",
    "    -----------------\n",
    "    White     : White\n",
    "    Non-white : Other\n",
    "    Non-white : Black\n",
    "    Non-white : Hispanic\n",
    "    \"\"\"\n",
    "    racethn4_values = response_wip['racethn4'].value_counts().index.tolist()\n",
    "    race2_values = response_wip['race2'].value_counts().index.tolist() + [\"Non-white\"] * 2\n",
    "    matches = dict(zip(racethn4_values, race2_values))\n",
    "    return matches[response['racethn4']] == response['race2']"
   ]
  },
  {
   "cell_type": "markdown",
   "metadata": {},
   "source": [
    "Now let's run the test on `response_wip` and see for how many rows `race2` and `racethn4` match."
   ]
  },
  {
   "cell_type": "code",
   "execution_count": 12,
   "metadata": {},
   "outputs": [
    {
     "data": {
      "application/vnd.jupyter.widget-view+json": {
       "model_id": "c833e11018544f4cbb3bfdb1a9c4dc6e",
       "version_major": 2,
       "version_minor": 0
      },
      "text/plain": [
       "HBox(children=(FloatProgress(value=0.0, max=1615.0), HTML(value='')))"
      ]
     },
     "metadata": {},
     "output_type": "display_data"
    },
    {
     "name": "stdout",
     "output_type": "stream",
     "text": [
      "\n"
     ]
    },
    {
     "data": {
      "text/plain": [
       "True    1615\n",
       "dtype: int64"
      ]
     },
     "execution_count": 12,
     "metadata": {},
     "output_type": "execute_result"
    }
   ],
   "source": [
    "response_wip.progress_apply(test_race_match, axis=\"columns\").value_counts()"
   ]
  },
  {
   "cell_type": "markdown",
   "metadata": {},
   "source": [
    "`race2` and `racethn4` match in every row! <br>\n",
    "Now we can drop `race2` column with confidence."
   ]
  },
  {
   "cell_type": "code",
   "execution_count": 13,
   "metadata": {},
   "outputs": [],
   "source": [
    "response_wip.drop(columns='race2', inplace=True)"
   ]
  },
  {
   "cell_type": "markdown",
   "metadata": {},
   "source": [
    "Next up is `educ3` and `educ4` columns. Let's see how they compare."
   ]
  },
  {
   "cell_type": "code",
   "execution_count": 14,
   "metadata": {},
   "outputs": [
    {
     "data": {
      "text/plain": [
       "College or more        997\n",
       "Some college           440\n",
       "High school or less    178\n",
       "Name: educ3, dtype: int64"
      ]
     },
     "execution_count": 14,
     "metadata": {},
     "output_type": "execute_result"
    }
   ],
   "source": [
    "response_wip['educ3'].value_counts()"
   ]
  },
  {
   "cell_type": "code",
   "execution_count": 15,
   "metadata": {},
   "outputs": [
    {
     "data": {
      "text/plain": [
       "College or more         515\n",
       "Post graduate degree    482\n",
       "Some college            440\n",
       "High school or less     178\n",
       "Name: educ4, dtype: int64"
      ]
     },
     "execution_count": 15,
     "metadata": {},
     "output_type": "execute_result"
    }
   ],
   "source": [
    "response_wip['educ4'].value_counts()"
   ]
  },
  {
   "cell_type": "markdown",
   "metadata": {},
   "source": [
    "It seems very likely that `educ3` and `educ4` match and `educ4` is the more detailed of the two. <br>\n",
    "Let's implement a test for it."
   ]
  },
  {
   "cell_type": "code",
   "execution_count": 16,
   "metadata": {},
   "outputs": [],
   "source": [
    "def test_educ_match(response):\n",
    "    \"\"\"\n",
    "    Tests row-wise if `educ3` and `educ4` match as below :\n",
    "    \n",
    "    educ3               : educ4\n",
    "    ------------------------------------------\n",
    "    College or more     : College or more\n",
    "    College or more     : Post graduate degree\n",
    "    Some college        : Some college\n",
    "    High school or less : High school or less\n",
    "    \"\"\"\n",
    "    educ4_values = response_wip['educ4'].value_counts().index.tolist()\n",
    "    educ3_values = response_wip['educ3'].value_counts().index.tolist()\n",
    "    educ3_values.insert(1, \"College or more\")\n",
    "    matches = dict(zip(educ4_values, educ3_values))\n",
    "    return matches[response['educ4']] == response['educ3']"
   ]
  },
  {
   "cell_type": "markdown",
   "metadata": {},
   "source": [
    "Now let's run the test on `response_wip` and see for how many rows `educ3` and `educ4` match."
   ]
  },
  {
   "cell_type": "code",
   "execution_count": 17,
   "metadata": {},
   "outputs": [
    {
     "data": {
      "application/vnd.jupyter.widget-view+json": {
       "model_id": "6dadd291dd39447484c071d1dc52d603",
       "version_major": 2,
       "version_minor": 0
      },
      "text/plain": [
       "HBox(children=(FloatProgress(value=0.0, max=1615.0), HTML(value='')))"
      ]
     },
     "metadata": {},
     "output_type": "display_data"
    },
    {
     "name": "stdout",
     "output_type": "stream",
     "text": [
      "\n"
     ]
    },
    {
     "data": {
      "text/plain": [
       "True    1615\n",
       "dtype: int64"
      ]
     },
     "execution_count": 17,
     "metadata": {},
     "output_type": "execute_result"
    }
   ],
   "source": [
    "response_wip.progress_apply(test_educ_match, axis=\"columns\").value_counts()"
   ]
  },
  {
   "cell_type": "markdown",
   "metadata": {},
   "source": [
    "`educ3` and `educ4` match in every row. <br>\n",
    "Now we can drop `educ3` column with confidence."
   ]
  },
  {
   "cell_type": "code",
   "execution_count": 18,
   "metadata": {},
   "outputs": [],
   "source": [
    "response_wip.drop(columns=\"educ3\", inplace=True)"
   ]
  },
  {
   "cell_type": "markdown",
   "metadata": {},
   "source": [
    "## Converting datatype of `has_children` column\n",
    "\n",
    "`has_children` column currently has two string values : ```Has_children```, and ```No_children```"
   ]
  },
  {
   "cell_type": "code",
   "execution_count": 19,
   "metadata": {},
   "outputs": [
    {
     "data": {
      "text/plain": [
       "Has children    1065\n",
       "No children      541\n",
       "Name: has_children, dtype: int64"
      ]
     },
     "execution_count": 19,
     "metadata": {},
     "output_type": "execute_result"
    }
   ],
   "source": [
    "response_wip['has_children'].value_counts()"
   ]
  },
  {
   "cell_type": "markdown",
   "metadata": {},
   "source": [
    "For ease of processing, we need to convert them into boolean values."
   ]
  },
  {
   "cell_type": "code",
   "execution_count": 20,
   "metadata": {},
   "outputs": [
    {
     "data": {
      "text/plain": [
       "True     1065\n",
       "False     541\n",
       "Name: has_children, dtype: int64"
      ]
     },
     "execution_count": 20,
     "metadata": {},
     "output_type": "execute_result"
    }
   ],
   "source": [
    "kids_values = response_wip['has_children'].value_counts().index.tolist()\n",
    "kids_mapper = dict(zip(kids_values, [True, False]))\n",
    "\n",
    "response_wip['has_children'] = response_wip['has_children'].map(kids_mapper)\n",
    "response_wip['has_children'].value_counts()"
   ]
  },
  {
   "cell_type": "code",
   "execution_count": 21,
   "metadata": {},
   "outputs": [
    {
     "data": {
      "text/html": [
       "<div>\n",
       "<style scoped>\n",
       "    .dataframe tbody tr th:only-of-type {\n",
       "        vertical-align: middle;\n",
       "    }\n",
       "\n",
       "    .dataframe tbody tr th {\n",
       "        vertical-align: top;\n",
       "    }\n",
       "\n",
       "    .dataframe thead th {\n",
       "        text-align: right;\n",
       "    }\n",
       "</style>\n",
       "<table border=\"1\" class=\"dataframe\">\n",
       "  <thead>\n",
       "    <tr style=\"text-align: right;\">\n",
       "      <th></th>\n",
       "      <th>start_date</th>\n",
       "      <th>end_date</th>\n",
       "      <th>q01</th>\n",
       "      <th>q02</th>\n",
       "      <th>q04_01</th>\n",
       "      <th>q04_02</th>\n",
       "      <th>q04_03</th>\n",
       "      <th>q04_04</th>\n",
       "      <th>q04_05</th>\n",
       "      <th>q04_06</th>\n",
       "      <th>...</th>\n",
       "      <th>q30</th>\n",
       "      <th>q34</th>\n",
       "      <th>q35</th>\n",
       "      <th>q36</th>\n",
       "      <th>racethn4</th>\n",
       "      <th>educ4</th>\n",
       "      <th>age3</th>\n",
       "      <th>has_children</th>\n",
       "      <th>orientation</th>\n",
       "      <th>weight</th>\n",
       "    </tr>\n",
       "  </thead>\n",
       "  <tbody>\n",
       "    <tr>\n",
       "      <th>0</th>\n",
       "      <td>5/10/18 4:01</td>\n",
       "      <td>5/10/18 4:06</td>\n",
       "      <td>Somewhat masculine</td>\n",
       "      <td>Somewhat important</td>\n",
       "      <td>Not selected</td>\n",
       "      <td>Not selected</td>\n",
       "      <td>Not selected</td>\n",
       "      <td>Pop culture</td>\n",
       "      <td>Not selected</td>\n",
       "      <td>Not selected</td>\n",
       "      <td>...</td>\n",
       "      <td>New York</td>\n",
       "      <td>$0-$9,999</td>\n",
       "      <td>Middle Atlantic</td>\n",
       "      <td>Windows Desktop / Laptop</td>\n",
       "      <td>Hispanic</td>\n",
       "      <td>College or more</td>\n",
       "      <td>35 - 64</td>\n",
       "      <td>False</td>\n",
       "      <td>Gay/Bisexual</td>\n",
       "      <td>1.714026</td>\n",
       "    </tr>\n",
       "    <tr>\n",
       "      <th>1</th>\n",
       "      <td>5/10/18 6:30</td>\n",
       "      <td>5/10/18 6:53</td>\n",
       "      <td>Somewhat masculine</td>\n",
       "      <td>Somewhat important</td>\n",
       "      <td>Father or father figure(s)</td>\n",
       "      <td>Not selected</td>\n",
       "      <td>Not selected</td>\n",
       "      <td>Not selected</td>\n",
       "      <td>Not selected</td>\n",
       "      <td>Not selected</td>\n",
       "      <td>...</td>\n",
       "      <td>Ohio</td>\n",
       "      <td>$50,000-$74,999</td>\n",
       "      <td>East North Central</td>\n",
       "      <td>iOS Phone / Tablet</td>\n",
       "      <td>White</td>\n",
       "      <td>Some college</td>\n",
       "      <td>65 and up</td>\n",
       "      <td>True</td>\n",
       "      <td>Straight</td>\n",
       "      <td>1.247120</td>\n",
       "    </tr>\n",
       "    <tr>\n",
       "      <th>2</th>\n",
       "      <td>5/10/18 7:02</td>\n",
       "      <td>5/10/18 7:09</td>\n",
       "      <td>Very masculine</td>\n",
       "      <td>Not too important</td>\n",
       "      <td>Father or father figure(s)</td>\n",
       "      <td>Not selected</td>\n",
       "      <td>Not selected</td>\n",
       "      <td>Not selected</td>\n",
       "      <td>Not selected</td>\n",
       "      <td>Other (please specify)</td>\n",
       "      <td>...</td>\n",
       "      <td>Michigan</td>\n",
       "      <td>$50,000-$74,999</td>\n",
       "      <td>East North Central</td>\n",
       "      <td>Windows Desktop / Laptop</td>\n",
       "      <td>White</td>\n",
       "      <td>College or more</td>\n",
       "      <td>35 - 64</td>\n",
       "      <td>True</td>\n",
       "      <td>Straight</td>\n",
       "      <td>0.515746</td>\n",
       "    </tr>\n",
       "    <tr>\n",
       "      <th>3</th>\n",
       "      <td>5/10/18 7:27</td>\n",
       "      <td>5/10/18 7:31</td>\n",
       "      <td>Very masculine</td>\n",
       "      <td>Not too important</td>\n",
       "      <td>Father or father figure(s)</td>\n",
       "      <td>Mother or mother figure(s)</td>\n",
       "      <td>Other family members</td>\n",
       "      <td>Not selected</td>\n",
       "      <td>Not selected</td>\n",
       "      <td>Not selected</td>\n",
       "      <td>...</td>\n",
       "      <td>Indiana</td>\n",
       "      <td>$50,000-$74,999</td>\n",
       "      <td>East North Central</td>\n",
       "      <td>Windows Desktop / Laptop</td>\n",
       "      <td>White</td>\n",
       "      <td>Some college</td>\n",
       "      <td>65 and up</td>\n",
       "      <td>True</td>\n",
       "      <td>No answer</td>\n",
       "      <td>0.600640</td>\n",
       "    </tr>\n",
       "    <tr>\n",
       "      <th>4</th>\n",
       "      <td>5/10/18 7:35</td>\n",
       "      <td>5/10/18 7:42</td>\n",
       "      <td>Very masculine</td>\n",
       "      <td>Very important</td>\n",
       "      <td>Not selected</td>\n",
       "      <td>Not selected</td>\n",
       "      <td>Other family members</td>\n",
       "      <td>Not selected</td>\n",
       "      <td>Not selected</td>\n",
       "      <td>Not selected</td>\n",
       "      <td>...</td>\n",
       "      <td>Ohio</td>\n",
       "      <td>$50,000-$74,999</td>\n",
       "      <td>East North Central</td>\n",
       "      <td>Windows Desktop / Laptop</td>\n",
       "      <td>White</td>\n",
       "      <td>College or more</td>\n",
       "      <td>35 - 64</td>\n",
       "      <td>False</td>\n",
       "      <td>Straight</td>\n",
       "      <td>1.033400</td>\n",
       "    </tr>\n",
       "  </tbody>\n",
       "</table>\n",
       "<p>5 rows × 95 columns</p>\n",
       "</div>"
      ],
      "text/plain": [
       "     start_date      end_date                 q01                 q02  \\\n",
       "0  5/10/18 4:01  5/10/18 4:06  Somewhat masculine  Somewhat important   \n",
       "1  5/10/18 6:30  5/10/18 6:53  Somewhat masculine  Somewhat important   \n",
       "2  5/10/18 7:02  5/10/18 7:09      Very masculine   Not too important   \n",
       "3  5/10/18 7:27  5/10/18 7:31      Very masculine   Not too important   \n",
       "4  5/10/18 7:35  5/10/18 7:42      Very masculine      Very important   \n",
       "\n",
       "                       q04_01                      q04_02  \\\n",
       "0                Not selected                Not selected   \n",
       "1  Father or father figure(s)                Not selected   \n",
       "2  Father or father figure(s)                Not selected   \n",
       "3  Father or father figure(s)  Mother or mother figure(s)   \n",
       "4                Not selected                Not selected   \n",
       "\n",
       "                 q04_03        q04_04        q04_05                  q04_06  \\\n",
       "0          Not selected   Pop culture  Not selected            Not selected   \n",
       "1          Not selected  Not selected  Not selected            Not selected   \n",
       "2          Not selected  Not selected  Not selected  Other (please specify)   \n",
       "3  Other family members  Not selected  Not selected            Not selected   \n",
       "4  Other family members  Not selected  Not selected            Not selected   \n",
       "\n",
       "   ...       q30              q34                 q35  \\\n",
       "0  ...  New York        $0-$9,999     Middle Atlantic   \n",
       "1  ...      Ohio  $50,000-$74,999  East North Central   \n",
       "2  ...  Michigan  $50,000-$74,999  East North Central   \n",
       "3  ...   Indiana  $50,000-$74,999  East North Central   \n",
       "4  ...      Ohio  $50,000-$74,999  East North Central   \n",
       "\n",
       "                        q36  racethn4            educ4       age3  \\\n",
       "0  Windows Desktop / Laptop  Hispanic  College or more    35 - 64   \n",
       "1        iOS Phone / Tablet     White     Some college  65 and up   \n",
       "2  Windows Desktop / Laptop     White  College or more    35 - 64   \n",
       "3  Windows Desktop / Laptop     White     Some college  65 and up   \n",
       "4  Windows Desktop / Laptop     White  College or more    35 - 64   \n",
       "\n",
       "  has_children   orientation    weight  \n",
       "0        False  Gay/Bisexual  1.714026  \n",
       "1         True      Straight  1.247120  \n",
       "2         True      Straight  0.515746  \n",
       "3         True     No answer  0.600640  \n",
       "4        False      Straight  1.033400  \n",
       "\n",
       "[5 rows x 95 columns]"
      ]
     },
     "execution_count": 21,
     "metadata": {},
     "output_type": "execute_result"
    }
   ],
   "source": [
    "response_wip.head()"
   ]
  },
  {
   "cell_type": "markdown",
   "metadata": {},
   "source": [
    "## Converting `start_date` and `end_date` into datetime objects"
   ]
  },
  {
   "cell_type": "code",
   "execution_count": 22,
   "metadata": {},
   "outputs": [],
   "source": [
    "response_wip['start_date'] = pd.to_datetime(response_wip['start_date'])\n",
    "response_wip['end_date'] = pd.to_datetime(response_wip['end_date'])"
   ]
  },
  {
   "cell_type": "markdown",
   "metadata": {},
   "source": [
    "## Cleaning question columns\n",
    "\n",
    "Columns whose names start with `q` denote answers to survey questions. <br>"
   ]
  },
  {
   "cell_type": "code",
   "execution_count": 23,
   "metadata": {},
   "outputs": [
    {
     "data": {
      "text/plain": [
       "Index(['q01', 'q02', 'q04_01', 'q04_02', 'q04_03', 'q04_04', 'q04_05',\n",
       "       'q04_06', 'q05', 'q07_01', 'q07_02', 'q07_03', 'q07_04', 'q07_05',\n",
       "       'q07_06', 'q07_07', 'q07_08', 'q07_09', 'q07_10', 'q07_11', 'q08_01',\n",
       "       'q08_02', 'q08_03', 'q08_04', 'q08_05', 'q08_06', 'q08_07', 'q08_08',\n",
       "       'q08_09', 'q08_10', 'q08_11', 'q08_12', 'q09', 'q10_01', 'q10_02',\n",
       "       'q10_03', 'q10_04', 'q10_05', 'q10_06', 'q10_07', 'q10_08', 'q11_01',\n",
       "       'q11_02', 'q11_03', 'q11_04', 'q11_05', 'q12_01', 'q12_02', 'q12_03',\n",
       "       'q12_04', 'q12_05', 'q12_06', 'q12_07', 'q13', 'q14', 'q15', 'q17',\n",
       "       'q18', 'q19_01', 'q19_02', 'q19_03', 'q19_04', 'q19_05', 'q19_06',\n",
       "       'q19_07', 'q20_01', 'q20_02', 'q20_03', 'q20_04', 'q20_05', 'q20_06',\n",
       "       'q21_01', 'q21_02', 'q21_03', 'q21_04', 'q22', 'q24', 'q25_01',\n",
       "       'q25_02', 'q25_03', 'q26', 'q28', 'q29', 'q30', 'q34', 'q35', 'q36'],\n",
       "      dtype='object')"
      ]
     },
     "execution_count": 23,
     "metadata": {},
     "output_type": "execute_result"
    }
   ],
   "source": [
    "question_filter = response_wip.columns.str.contains(r\"q[0-9]+\")\n",
    "questions = response_wip.columns[question_filter]\n",
    "questions"
   ]
  },
  {
   "cell_type": "markdown",
   "metadata": {},
   "source": [
    "Questions divide into boolean questions and categorical questions. <br>\n",
    "Boolean questions further divide into yes/no questions and selected/not selected questions.\n",
    "\n",
    "### Cleaning boolean questions\n",
    "\n",
    "Boolean questions fall into either selected/not selected questions or yes/no questions."
   ]
  },
  {
   "cell_type": "code",
   "execution_count": 24,
   "metadata": {},
   "outputs": [],
   "source": [
    "select_questions = pd.Index([col for col in questions if response_wip[col].str.contains(r\"^Not selected$\").any()])\n",
    "yes_no_questions = pd.Index([col for col in questions if response_wip[col].str.contains(r\"^Yes$\").any()])"
   ]
  },
  {
   "cell_type": "markdown",
   "metadata": {},
   "source": [
    "#### Cleaning `select_questions`\n",
    "\n",
    "Below are select question columns before cleaning."
   ]
  },
  {
   "cell_type": "code",
   "execution_count": 25,
   "metadata": {},
   "outputs": [
    {
     "data": {
      "text/html": [
       "<div>\n",
       "<style scoped>\n",
       "    .dataframe tbody tr th:only-of-type {\n",
       "        vertical-align: middle;\n",
       "    }\n",
       "\n",
       "    .dataframe tbody tr th {\n",
       "        vertical-align: top;\n",
       "    }\n",
       "\n",
       "    .dataframe thead th {\n",
       "        text-align: right;\n",
       "    }\n",
       "</style>\n",
       "<table border=\"1\" class=\"dataframe\">\n",
       "  <thead>\n",
       "    <tr style=\"text-align: right;\">\n",
       "      <th></th>\n",
       "      <th>q04_01</th>\n",
       "      <th>q04_02</th>\n",
       "      <th>q04_03</th>\n",
       "      <th>q04_04</th>\n",
       "      <th>q04_05</th>\n",
       "      <th>q04_06</th>\n",
       "      <th>q08_01</th>\n",
       "      <th>q08_02</th>\n",
       "      <th>q08_03</th>\n",
       "      <th>q08_04</th>\n",
       "      <th>...</th>\n",
       "      <th>q20_04</th>\n",
       "      <th>q20_05</th>\n",
       "      <th>q20_06</th>\n",
       "      <th>q21_01</th>\n",
       "      <th>q21_02</th>\n",
       "      <th>q21_03</th>\n",
       "      <th>q21_04</th>\n",
       "      <th>q25_01</th>\n",
       "      <th>q25_02</th>\n",
       "      <th>q25_03</th>\n",
       "    </tr>\n",
       "  </thead>\n",
       "  <tbody>\n",
       "    <tr>\n",
       "      <th>0</th>\n",
       "      <td>Not selected</td>\n",
       "      <td>Not selected</td>\n",
       "      <td>Not selected</td>\n",
       "      <td>Pop culture</td>\n",
       "      <td>Not selected</td>\n",
       "      <td>Not selected</td>\n",
       "      <td>Not selected</td>\n",
       "      <td>Not selected</td>\n",
       "      <td>Your hair or hairline</td>\n",
       "      <td>Not selected</td>\n",
       "      <td>...</td>\n",
       "      <td>Every situation is different</td>\n",
       "      <td>It isn?t always clear how to gauge someone?s i...</td>\n",
       "      <td>Not selected</td>\n",
       "      <td>Not selected</td>\n",
       "      <td>Not selected</td>\n",
       "      <td>Not selected</td>\n",
       "      <td>None of the above</td>\n",
       "      <td>Not selected</td>\n",
       "      <td>Not selected</td>\n",
       "      <td>No children</td>\n",
       "    </tr>\n",
       "    <tr>\n",
       "      <th>1</th>\n",
       "      <td>Father or father figure(s)</td>\n",
       "      <td>Not selected</td>\n",
       "      <td>Not selected</td>\n",
       "      <td>Not selected</td>\n",
       "      <td>Not selected</td>\n",
       "      <td>Not selected</td>\n",
       "      <td>Not selected</td>\n",
       "      <td>Your weight</td>\n",
       "      <td>Not selected</td>\n",
       "      <td>Not selected</td>\n",
       "      <td>...</td>\n",
       "      <td>Not selected</td>\n",
       "      <td>Not selected</td>\n",
       "      <td>Other (please specify)</td>\n",
       "      <td>Not selected</td>\n",
       "      <td>Not selected</td>\n",
       "      <td>Not selected</td>\n",
       "      <td>None of the above</td>\n",
       "      <td>Not selected</td>\n",
       "      <td>Yes, one or more children 18 or older</td>\n",
       "      <td>Not selected</td>\n",
       "    </tr>\n",
       "    <tr>\n",
       "      <th>2</th>\n",
       "      <td>Father or father figure(s)</td>\n",
       "      <td>Not selected</td>\n",
       "      <td>Not selected</td>\n",
       "      <td>Not selected</td>\n",
       "      <td>Not selected</td>\n",
       "      <td>Other (please specify)</td>\n",
       "      <td>Not selected</td>\n",
       "      <td>Not selected</td>\n",
       "      <td>Not selected</td>\n",
       "      <td>Not selected</td>\n",
       "      <td>...</td>\n",
       "      <td>Every situation is different</td>\n",
       "      <td>Not selected</td>\n",
       "      <td>Not selected</td>\n",
       "      <td>Not selected</td>\n",
       "      <td>Not selected</td>\n",
       "      <td>Not selected</td>\n",
       "      <td>None of the above</td>\n",
       "      <td>Not selected</td>\n",
       "      <td>Yes, one or more children 18 or older</td>\n",
       "      <td>Not selected</td>\n",
       "    </tr>\n",
       "    <tr>\n",
       "      <th>3</th>\n",
       "      <td>Father or father figure(s)</td>\n",
       "      <td>Mother or mother figure(s)</td>\n",
       "      <td>Other family members</td>\n",
       "      <td>Not selected</td>\n",
       "      <td>Not selected</td>\n",
       "      <td>Not selected</td>\n",
       "      <td>Not selected</td>\n",
       "      <td>Not selected</td>\n",
       "      <td>Not selected</td>\n",
       "      <td>Not selected</td>\n",
       "      <td>...</td>\n",
       "      <td>Not selected</td>\n",
       "      <td>Not selected</td>\n",
       "      <td>Not selected</td>\n",
       "      <td>Not selected</td>\n",
       "      <td>Not selected</td>\n",
       "      <td>Not selected</td>\n",
       "      <td>Not selected</td>\n",
       "      <td>Not selected</td>\n",
       "      <td>Yes, one or more children 18 or older</td>\n",
       "      <td>Not selected</td>\n",
       "    </tr>\n",
       "    <tr>\n",
       "      <th>4</th>\n",
       "      <td>Not selected</td>\n",
       "      <td>Not selected</td>\n",
       "      <td>Other family members</td>\n",
       "      <td>Not selected</td>\n",
       "      <td>Not selected</td>\n",
       "      <td>Not selected</td>\n",
       "      <td>Not selected</td>\n",
       "      <td>Your weight</td>\n",
       "      <td>Not selected</td>\n",
       "      <td>Not selected</td>\n",
       "      <td>...</td>\n",
       "      <td>Not selected</td>\n",
       "      <td>Not selected</td>\n",
       "      <td>Not selected</td>\n",
       "      <td>Not selected</td>\n",
       "      <td>Not selected</td>\n",
       "      <td>Not selected</td>\n",
       "      <td>None of the above</td>\n",
       "      <td>Not selected</td>\n",
       "      <td>Not selected</td>\n",
       "      <td>No children</td>\n",
       "    </tr>\n",
       "  </tbody>\n",
       "</table>\n",
       "<p>5 rows × 58 columns</p>\n",
       "</div>"
      ],
      "text/plain": [
       "                       q04_01                      q04_02  \\\n",
       "0                Not selected                Not selected   \n",
       "1  Father or father figure(s)                Not selected   \n",
       "2  Father or father figure(s)                Not selected   \n",
       "3  Father or father figure(s)  Mother or mother figure(s)   \n",
       "4                Not selected                Not selected   \n",
       "\n",
       "                 q04_03        q04_04        q04_05                  q04_06  \\\n",
       "0          Not selected   Pop culture  Not selected            Not selected   \n",
       "1          Not selected  Not selected  Not selected            Not selected   \n",
       "2          Not selected  Not selected  Not selected  Other (please specify)   \n",
       "3  Other family members  Not selected  Not selected            Not selected   \n",
       "4  Other family members  Not selected  Not selected            Not selected   \n",
       "\n",
       "         q08_01        q08_02                 q08_03        q08_04  ...  \\\n",
       "0  Not selected  Not selected  Your hair or hairline  Not selected  ...   \n",
       "1  Not selected   Your weight           Not selected  Not selected  ...   \n",
       "2  Not selected  Not selected           Not selected  Not selected  ...   \n",
       "3  Not selected  Not selected           Not selected  Not selected  ...   \n",
       "4  Not selected   Your weight           Not selected  Not selected  ...   \n",
       "\n",
       "                         q20_04  \\\n",
       "0  Every situation is different   \n",
       "1                  Not selected   \n",
       "2  Every situation is different   \n",
       "3                  Not selected   \n",
       "4                  Not selected   \n",
       "\n",
       "                                              q20_05                  q20_06  \\\n",
       "0  It isn?t always clear how to gauge someone?s i...            Not selected   \n",
       "1                                       Not selected  Other (please specify)   \n",
       "2                                       Not selected            Not selected   \n",
       "3                                       Not selected            Not selected   \n",
       "4                                       Not selected            Not selected   \n",
       "\n",
       "         q21_01        q21_02        q21_03             q21_04        q25_01  \\\n",
       "0  Not selected  Not selected  Not selected  None of the above  Not selected   \n",
       "1  Not selected  Not selected  Not selected  None of the above  Not selected   \n",
       "2  Not selected  Not selected  Not selected  None of the above  Not selected   \n",
       "3  Not selected  Not selected  Not selected       Not selected  Not selected   \n",
       "4  Not selected  Not selected  Not selected  None of the above  Not selected   \n",
       "\n",
       "                                  q25_02        q25_03  \n",
       "0                           Not selected   No children  \n",
       "1  Yes, one or more children 18 or older  Not selected  \n",
       "2  Yes, one or more children 18 or older  Not selected  \n",
       "3  Yes, one or more children 18 or older  Not selected  \n",
       "4                           Not selected   No children  \n",
       "\n",
       "[5 rows x 58 columns]"
      ]
     },
     "execution_count": 25,
     "metadata": {},
     "output_type": "execute_result"
    }
   ],
   "source": [
    "response_wip[select_questions].head()"
   ]
  },
  {
   "cell_type": "markdown",
   "metadata": {},
   "source": [
    "Below is how we clean select question columns"
   ]
  },
  {
   "cell_type": "code",
   "execution_count": 26,
   "metadata": {},
   "outputs": [
    {
     "data": {
      "application/vnd.jupyter.widget-view+json": {
       "model_id": "ba395fe17f434a2a8d9652527463968d",
       "version_major": 2,
       "version_minor": 0
      },
      "text/plain": [
       "HBox(children=(FloatProgress(value=0.0, max=93670.0), HTML(value='')))"
      ]
     },
     "metadata": {},
     "output_type": "display_data"
    },
    {
     "name": "stdout",
     "output_type": "stream",
     "text": [
      "\n"
     ]
    }
   ],
   "source": [
    "def map_select(val):\n",
    "    if val == \"Not selected\":\n",
    "        return False\n",
    "    elif pd.isna(val):\n",
    "        return np.nan\n",
    "    else:\n",
    "        return True\n",
    "\n",
    "response_wip[select_questions] = response_wip[select_questions].progress_applymap(map_select)"
   ]
  },
  {
   "cell_type": "markdown",
   "metadata": {},
   "source": [
    "Below are select question columns after clenaing"
   ]
  },
  {
   "cell_type": "code",
   "execution_count": 27,
   "metadata": {},
   "outputs": [
    {
     "data": {
      "text/html": [
       "<div>\n",
       "<style scoped>\n",
       "    .dataframe tbody tr th:only-of-type {\n",
       "        vertical-align: middle;\n",
       "    }\n",
       "\n",
       "    .dataframe tbody tr th {\n",
       "        vertical-align: top;\n",
       "    }\n",
       "\n",
       "    .dataframe thead th {\n",
       "        text-align: right;\n",
       "    }\n",
       "</style>\n",
       "<table border=\"1\" class=\"dataframe\">\n",
       "  <thead>\n",
       "    <tr style=\"text-align: right;\">\n",
       "      <th></th>\n",
       "      <th>q04_01</th>\n",
       "      <th>q04_02</th>\n",
       "      <th>q04_03</th>\n",
       "      <th>q04_04</th>\n",
       "      <th>q04_05</th>\n",
       "      <th>q04_06</th>\n",
       "      <th>q08_01</th>\n",
       "      <th>q08_02</th>\n",
       "      <th>q08_03</th>\n",
       "      <th>q08_04</th>\n",
       "      <th>...</th>\n",
       "      <th>q20_04</th>\n",
       "      <th>q20_05</th>\n",
       "      <th>q20_06</th>\n",
       "      <th>q21_01</th>\n",
       "      <th>q21_02</th>\n",
       "      <th>q21_03</th>\n",
       "      <th>q21_04</th>\n",
       "      <th>q25_01</th>\n",
       "      <th>q25_02</th>\n",
       "      <th>q25_03</th>\n",
       "    </tr>\n",
       "  </thead>\n",
       "  <tbody>\n",
       "    <tr>\n",
       "      <th>0</th>\n",
       "      <td>False</td>\n",
       "      <td>False</td>\n",
       "      <td>False</td>\n",
       "      <td>True</td>\n",
       "      <td>False</td>\n",
       "      <td>False</td>\n",
       "      <td>False</td>\n",
       "      <td>False</td>\n",
       "      <td>True</td>\n",
       "      <td>False</td>\n",
       "      <td>...</td>\n",
       "      <td>True</td>\n",
       "      <td>True</td>\n",
       "      <td>False</td>\n",
       "      <td>False</td>\n",
       "      <td>False</td>\n",
       "      <td>False</td>\n",
       "      <td>True</td>\n",
       "      <td>False</td>\n",
       "      <td>False</td>\n",
       "      <td>True</td>\n",
       "    </tr>\n",
       "    <tr>\n",
       "      <th>1</th>\n",
       "      <td>True</td>\n",
       "      <td>False</td>\n",
       "      <td>False</td>\n",
       "      <td>False</td>\n",
       "      <td>False</td>\n",
       "      <td>False</td>\n",
       "      <td>False</td>\n",
       "      <td>True</td>\n",
       "      <td>False</td>\n",
       "      <td>False</td>\n",
       "      <td>...</td>\n",
       "      <td>False</td>\n",
       "      <td>False</td>\n",
       "      <td>True</td>\n",
       "      <td>False</td>\n",
       "      <td>False</td>\n",
       "      <td>False</td>\n",
       "      <td>True</td>\n",
       "      <td>False</td>\n",
       "      <td>True</td>\n",
       "      <td>False</td>\n",
       "    </tr>\n",
       "    <tr>\n",
       "      <th>2</th>\n",
       "      <td>True</td>\n",
       "      <td>False</td>\n",
       "      <td>False</td>\n",
       "      <td>False</td>\n",
       "      <td>False</td>\n",
       "      <td>True</td>\n",
       "      <td>False</td>\n",
       "      <td>False</td>\n",
       "      <td>False</td>\n",
       "      <td>False</td>\n",
       "      <td>...</td>\n",
       "      <td>True</td>\n",
       "      <td>False</td>\n",
       "      <td>False</td>\n",
       "      <td>False</td>\n",
       "      <td>False</td>\n",
       "      <td>False</td>\n",
       "      <td>True</td>\n",
       "      <td>False</td>\n",
       "      <td>True</td>\n",
       "      <td>False</td>\n",
       "    </tr>\n",
       "    <tr>\n",
       "      <th>3</th>\n",
       "      <td>True</td>\n",
       "      <td>True</td>\n",
       "      <td>True</td>\n",
       "      <td>False</td>\n",
       "      <td>False</td>\n",
       "      <td>False</td>\n",
       "      <td>False</td>\n",
       "      <td>False</td>\n",
       "      <td>False</td>\n",
       "      <td>False</td>\n",
       "      <td>...</td>\n",
       "      <td>False</td>\n",
       "      <td>False</td>\n",
       "      <td>False</td>\n",
       "      <td>False</td>\n",
       "      <td>False</td>\n",
       "      <td>False</td>\n",
       "      <td>False</td>\n",
       "      <td>False</td>\n",
       "      <td>True</td>\n",
       "      <td>False</td>\n",
       "    </tr>\n",
       "    <tr>\n",
       "      <th>4</th>\n",
       "      <td>False</td>\n",
       "      <td>False</td>\n",
       "      <td>True</td>\n",
       "      <td>False</td>\n",
       "      <td>False</td>\n",
       "      <td>False</td>\n",
       "      <td>False</td>\n",
       "      <td>True</td>\n",
       "      <td>False</td>\n",
       "      <td>False</td>\n",
       "      <td>...</td>\n",
       "      <td>False</td>\n",
       "      <td>False</td>\n",
       "      <td>False</td>\n",
       "      <td>False</td>\n",
       "      <td>False</td>\n",
       "      <td>False</td>\n",
       "      <td>True</td>\n",
       "      <td>False</td>\n",
       "      <td>False</td>\n",
       "      <td>True</td>\n",
       "    </tr>\n",
       "  </tbody>\n",
       "</table>\n",
       "<p>5 rows × 58 columns</p>\n",
       "</div>"
      ],
      "text/plain": [
       "   q04_01  q04_02  q04_03  q04_04  q04_05  q04_06  q08_01  q08_02  q08_03  \\\n",
       "0   False   False   False    True   False   False   False   False    True   \n",
       "1    True   False   False   False   False   False   False    True   False   \n",
       "2    True   False   False   False   False    True   False   False   False   \n",
       "3    True    True    True   False   False   False   False   False   False   \n",
       "4   False   False    True   False   False   False   False    True   False   \n",
       "\n",
       "   q08_04  ...  q20_04  q20_05  q20_06  q21_01  q21_02  q21_03  q21_04  \\\n",
       "0   False  ...    True    True   False   False   False   False    True   \n",
       "1   False  ...   False   False    True   False   False   False    True   \n",
       "2   False  ...    True   False   False   False   False   False    True   \n",
       "3   False  ...   False   False   False   False   False   False   False   \n",
       "4   False  ...   False   False   False   False   False   False    True   \n",
       "\n",
       "   q25_01 q25_02 q25_03  \n",
       "0   False  False   True  \n",
       "1   False   True  False  \n",
       "2   False   True  False  \n",
       "3   False   True  False  \n",
       "4   False  False   True  \n",
       "\n",
       "[5 rows x 58 columns]"
      ]
     },
     "execution_count": 27,
     "metadata": {},
     "output_type": "execute_result"
    }
   ],
   "source": [
    "response_wip[select_questions].head()"
   ]
  },
  {
   "cell_type": "markdown",
   "metadata": {},
   "source": [
    "#### Cleaning `yes_no_questions`\n",
    "\n",
    "Below are yes/no questions before cleaning"
   ]
  },
  {
   "cell_type": "code",
   "execution_count": 28,
   "metadata": {},
   "outputs": [
    {
     "data": {
      "text/html": [
       "<div>\n",
       "<style scoped>\n",
       "    .dataframe tbody tr th:only-of-type {\n",
       "        vertical-align: middle;\n",
       "    }\n",
       "\n",
       "    .dataframe tbody tr th {\n",
       "        vertical-align: top;\n",
       "    }\n",
       "\n",
       "    .dataframe thead th {\n",
       "        text-align: right;\n",
       "    }\n",
       "</style>\n",
       "<table border=\"1\" class=\"dataframe\">\n",
       "  <thead>\n",
       "    <tr style=\"text-align: right;\">\n",
       "      <th></th>\n",
       "      <th>q05</th>\n",
       "      <th>q15</th>\n",
       "      <th>q17</th>\n",
       "      <th>q22</th>\n",
       "    </tr>\n",
       "  </thead>\n",
       "  <tbody>\n",
       "    <tr>\n",
       "      <th>0</th>\n",
       "      <td>Yes</td>\n",
       "      <td>NaN</td>\n",
       "      <td>Yes</td>\n",
       "      <td>No</td>\n",
       "    </tr>\n",
       "    <tr>\n",
       "      <th>1</th>\n",
       "      <td>Yes</td>\n",
       "      <td>NaN</td>\n",
       "      <td>No</td>\n",
       "      <td>No</td>\n",
       "    </tr>\n",
       "    <tr>\n",
       "      <th>2</th>\n",
       "      <td>No</td>\n",
       "      <td>No</td>\n",
       "      <td>Yes</td>\n",
       "      <td>No</td>\n",
       "    </tr>\n",
       "    <tr>\n",
       "      <th>3</th>\n",
       "      <td>No</td>\n",
       "      <td>NaN</td>\n",
       "      <td>Yes</td>\n",
       "      <td>No answer</td>\n",
       "    </tr>\n",
       "    <tr>\n",
       "      <th>4</th>\n",
       "      <td>Yes</td>\n",
       "      <td>Yes</td>\n",
       "      <td>No</td>\n",
       "      <td>No</td>\n",
       "    </tr>\n",
       "  </tbody>\n",
       "</table>\n",
       "</div>"
      ],
      "text/plain": [
       "   q05  q15  q17        q22\n",
       "0  Yes  NaN  Yes         No\n",
       "1  Yes  NaN   No         No\n",
       "2   No   No  Yes         No\n",
       "3   No  NaN  Yes  No answer\n",
       "4  Yes  Yes   No         No"
      ]
     },
     "execution_count": 28,
     "metadata": {},
     "output_type": "execute_result"
    }
   ],
   "source": [
    "response_wip[yes_no_questions].head()"
   ]
  },
  {
   "cell_type": "markdown",
   "metadata": {},
   "source": [
    "Below is how we clean yes/no questions"
   ]
  },
  {
   "cell_type": "code",
   "execution_count": 29,
   "metadata": {},
   "outputs": [
    {
     "data": {
      "application/vnd.jupyter.widget-view+json": {
       "model_id": "92142f10d30541b4adf5eb40209bcd33",
       "version_major": 2,
       "version_minor": 0
      },
      "text/plain": [
       "HBox(children=(FloatProgress(value=0.0, max=4.0), HTML(value='')))"
      ]
     },
     "metadata": {},
     "output_type": "display_data"
    },
    {
     "name": "stdout",
     "output_type": "stream",
     "text": [
      "\n"
     ]
    }
   ],
   "source": [
    "yes_no_mapper = {\"Yes\":True, \"No\":False, \"No answer\":np.nan}\n",
    "response_wip[yes_no_questions] = response_wip[yes_no_questions].progress_apply(lambda col : col.map(yes_no_mapper, na_action=\"ignore\"))"
   ]
  },
  {
   "cell_type": "code",
   "execution_count": 30,
   "metadata": {},
   "outputs": [
    {
     "data": {
      "text/html": [
       "<div>\n",
       "<style scoped>\n",
       "    .dataframe tbody tr th:only-of-type {\n",
       "        vertical-align: middle;\n",
       "    }\n",
       "\n",
       "    .dataframe tbody tr th {\n",
       "        vertical-align: top;\n",
       "    }\n",
       "\n",
       "    .dataframe thead th {\n",
       "        text-align: right;\n",
       "    }\n",
       "</style>\n",
       "<table border=\"1\" class=\"dataframe\">\n",
       "  <thead>\n",
       "    <tr style=\"text-align: right;\">\n",
       "      <th></th>\n",
       "      <th>q05</th>\n",
       "      <th>q15</th>\n",
       "      <th>q17</th>\n",
       "      <th>q22</th>\n",
       "    </tr>\n",
       "  </thead>\n",
       "  <tbody>\n",
       "    <tr>\n",
       "      <th>0</th>\n",
       "      <td>True</td>\n",
       "      <td>NaN</td>\n",
       "      <td>True</td>\n",
       "      <td>False</td>\n",
       "    </tr>\n",
       "    <tr>\n",
       "      <th>1</th>\n",
       "      <td>True</td>\n",
       "      <td>NaN</td>\n",
       "      <td>False</td>\n",
       "      <td>False</td>\n",
       "    </tr>\n",
       "    <tr>\n",
       "      <th>2</th>\n",
       "      <td>False</td>\n",
       "      <td>False</td>\n",
       "      <td>True</td>\n",
       "      <td>False</td>\n",
       "    </tr>\n",
       "    <tr>\n",
       "      <th>3</th>\n",
       "      <td>False</td>\n",
       "      <td>NaN</td>\n",
       "      <td>True</td>\n",
       "      <td>NaN</td>\n",
       "    </tr>\n",
       "    <tr>\n",
       "      <th>4</th>\n",
       "      <td>True</td>\n",
       "      <td>True</td>\n",
       "      <td>False</td>\n",
       "      <td>False</td>\n",
       "    </tr>\n",
       "  </tbody>\n",
       "</table>\n",
       "</div>"
      ],
      "text/plain": [
       "     q05    q15    q17    q22\n",
       "0   True    NaN   True  False\n",
       "1   True    NaN  False  False\n",
       "2  False  False   True  False\n",
       "3  False    NaN   True    NaN\n",
       "4   True   True  False  False"
      ]
     },
     "execution_count": 30,
     "metadata": {},
     "output_type": "execute_result"
    }
   ],
   "source": [
    "response_wip[yes_no_questions].head()"
   ]
  },
  {
   "cell_type": "markdown",
   "metadata": {},
   "source": [
    "### Cleaning categorical questions\n",
    "\n",
    "Below are the categorical questioin columns"
   ]
  },
  {
   "cell_type": "code",
   "execution_count": 31,
   "metadata": {},
   "outputs": [
    {
     "data": {
      "text/plain": [
       "Index(['q01', 'q02', 'q07_01', 'q07_02', 'q07_03', 'q07_04', 'q07_05',\n",
       "       'q07_06', 'q07_07', 'q07_08', 'q07_09', 'q07_10', 'q07_11', 'q09',\n",
       "       'q13', 'q14', 'q18', 'q24', 'q26', 'q28', 'q29', 'q30', 'q34', 'q35',\n",
       "       'q36'],\n",
       "      dtype='object')"
      ]
     },
     "execution_count": 31,
     "metadata": {},
     "output_type": "execute_result"
    }
   ],
   "source": [
    "categorical_questions = questions.difference(select_questions).difference(yes_no_questions)\n",
    "categorical_questions"
   ]
  },
  {
   "cell_type": "markdown",
   "metadata": {},
   "source": [
    "#### Replacing `No answer` and `Prefer not to answer` with null value"
   ]
  },
  {
   "cell_type": "code",
   "execution_count": 32,
   "metadata": {},
   "outputs": [],
   "source": [
    "response_wip[categorical_questions] = response_wip[categorical_questions].replace(\"No answer\", np.nan)\\\n",
    "                                                                         .replace(\"Prefer not to answer\", np.nan)\\\n",
    "                                                                         .replace(\"Other (please specify)\", np.nan)"
   ]
  },
  {
   "cell_type": "markdown",
   "metadata": {},
   "source": [
    "#### Converting the datatype into ordered `pandas.Categorical`"
   ]
  },
  {
   "cell_type": "code",
   "execution_count": 33,
   "metadata": {},
   "outputs": [],
   "source": [
    "response_wip[categorical_questions] = response_wip[categorical_questions].astype(pd.CategoricalDtype(ordered=True))"
   ]
  },
  {
   "cell_type": "markdown",
   "metadata": {},
   "source": [
    "#### Reordering the misordered categories\n",
    "\n",
    "##### Reordering `q07` categories\n",
    "Below are the q07 question columns. <br>"
   ]
  },
  {
   "cell_type": "code",
   "execution_count": 34,
   "metadata": {},
   "outputs": [
    {
     "data": {
      "text/plain": [
       "Index(['q07_01', 'q07_02', 'q07_03', 'q07_04', 'q07_05', 'q07_06', 'q07_07',\n",
       "       'q07_08', 'q07_09', 'q07_10', 'q07_11'],\n",
       "      dtype='object')"
      ]
     },
     "execution_count": 34,
     "metadata": {},
     "output_type": "execute_result"
    }
   ],
   "source": [
    "q07_questions = response_wip.columns[response_wip.columns.str.contains(r\"^q07\")]\n",
    "q07_questions"
   ]
  },
  {
   "cell_type": "markdown",
   "metadata": {},
   "source": [
    "They all share same categories inside."
   ]
  },
  {
   "cell_type": "code",
   "execution_count": 35,
   "metadata": {},
   "outputs": [
    {
     "name": "stdout",
     "output_type": "stream",
     "text": [
      "Passed ; all the columns have identical sets of categories\n"
     ]
    }
   ],
   "source": [
    "from functools import reduce\n",
    "\n",
    "def test_cat_shared(df):\n",
    "    \"\"\"\n",
    "    Tests if all columns in the given df have identical sets of categories\n",
    "    \"\"\"\n",
    "    col_cat = pd.Series({col : set(vals) for col, vals in response_wip[q07_questions].iteritems()})\n",
    "    shared  = reduce(lambda a,b : a.intersection(b), col_cat.values)\n",
    "    results = col_cat.apply(lambda cat : cat == shared)\n",
    "    if results.all():\n",
    "        print(\"Passed ; all the columns have identical sets of categories\")\n",
    "    else:\n",
    "        print(\"Failed ; some columns do not have identical sets of categories\")\n",
    "\n",
    "test_cat_shared(response_wip[q07_questions])"
   ]
  },
  {
   "cell_type": "markdown",
   "metadata": {},
   "source": [
    "Below are the categories of q07 question columns"
   ]
  },
  {
   "cell_type": "code",
   "execution_count": 36,
   "metadata": {},
   "outputs": [
    {
     "data": {
      "text/plain": [
       "Index(['Never, and not open to it', 'Never, but open to it', 'Often', 'Rarely',\n",
       "       'Sometimes'],\n",
       "      dtype='object')"
      ]
     },
     "execution_count": 36,
     "metadata": {},
     "output_type": "execute_result"
    }
   ],
   "source": [
    "response_wip['q07_01'].cat.categories"
   ]
  },
  {
   "cell_type": "markdown",
   "metadata": {},
   "source": [
    "Below we reorder the categories across columns"
   ]
  },
  {
   "cell_type": "code",
   "execution_count": 37,
   "metadata": {},
   "outputs": [],
   "source": [
    "q07_reordered = ['Never, and not open to it', 'Never, but open to it', 'Rarely', 'Sometimes', 'Often']\n",
    "\n",
    "for label, content in response_wip[q07_questions].items():\n",
    "    response_wip[label] = response_wip[label].cat.reorder_categories(q07_reordered)"
   ]
  },
  {
   "cell_type": "markdown",
   "metadata": {},
   "source": [
    "##### Reordering `q14` categories"
   ]
  },
  {
   "cell_type": "code",
   "execution_count": 38,
   "metadata": {},
   "outputs": [],
   "source": [
    "q14_reordered = ['Nothing at all', 'Only a little', 'Some', 'A lot']\n",
    "response_wip['q14'] = response_wip['q14'].cat.reorder_categories(q14_reordered)"
   ]
  },
  {
   "cell_type": "markdown",
   "metadata": {},
   "source": [
    "##### Reordering `q18` categories"
   ]
  },
  {
   "cell_type": "code",
   "execution_count": 39,
   "metadata": {},
   "outputs": [],
   "source": [
    "q18_reordered = ['Never', \"Rarely\", \"Sometimes\", \"Often\", \"Always\"]\n",
    "response_wip['q18'] = response_wip['q18'].cat.reorder_categories(q18_reordered)"
   ]
  },
  {
   "cell_type": "markdown",
   "metadata": {},
   "source": [
    "##### Reordering `q29` categories"
   ]
  },
  {
   "cell_type": "code",
   "execution_count": 40,
   "metadata": {},
   "outputs": [
    {
     "data": {
      "text/plain": [
       "Index(['Associate's degree', 'College graduate',\n",
       "       'Did not complete high school', 'High school or G.E.D.',\n",
       "       'Post graduate degree', 'Some college'],\n",
       "      dtype='object')"
      ]
     },
     "execution_count": 40,
     "metadata": {},
     "output_type": "execute_result"
    }
   ],
   "source": [
    "response_wip['q29'].cat.categories"
   ]
  },
  {
   "cell_type": "code",
   "execution_count": 41,
   "metadata": {},
   "outputs": [],
   "source": [
    "q29_reordered = ['Did not complete high school', 'High school or G.E.D.', \"Associate's degree\",\n",
    "                 'Some college', 'College graduate', 'Post graduate degree']\n",
    "response_wip['q29'] = response_wip['q29'].cat.reorder_categories(q29_reordered)"
   ]
  },
  {
   "cell_type": "markdown",
   "metadata": {},
   "source": [
    "#### Splitting question columns\n",
    "\n",
    "Some question columns contain data that can be further divided into two separate columns. <br>\n",
    "\n",
    "##### Splitting `q09` question column"
   ]
  },
  {
   "cell_type": "code",
   "execution_count": 42,
   "metadata": {},
   "outputs": [],
   "source": [
    "extracted = response_wip['q09'].str.extract(r\"(?P<is_employed>[a-zA-Z ]*[Ee]mployed)[,-][ ]?(?P<employment_status>[a-zA-Z -]*)\")\n",
    "extracted = extracted.apply(lambda col: col.str.lower())\n",
    "extracted['is_employed'] = extracted['is_employed'].map({\"employed\":True, \"not employed\":False}, na_action=\"ignore\")\n",
    "response_wip = pd.concat([response_wip, extracted], axis=\"columns\")\n",
    "response_wip.drop(columns=\"q09\", inplace=True)"
   ]
  },
  {
   "cell_type": "markdown",
   "metadata": {},
   "source": [
    "##### Splitting `q36` question column"
   ]
  },
  {
   "cell_type": "code",
   "execution_count": 43,
   "metadata": {},
   "outputs": [],
   "source": [
    "response_wip[[\"os\", \"device\"]] = response_wip['q36'].str.extract(r\"(?P<os>\\w*) (?P<device>\\w* / \\w*)\")\n",
    "response_wip.drop(columns=\"q36\", inplace=True)"
   ]
  },
  {
   "cell_type": "markdown",
   "metadata": {},
   "source": [
    "#### Setting some columns as unordered\n",
    "\n",
    "Some categorical question columns do not necessarily have order in their categories.\n",
    "\n",
    "##### Setting `q13` as unordered"
   ]
  },
  {
   "cell_type": "code",
   "execution_count": 44,
   "metadata": {},
   "outputs": [],
   "source": [
    "response_wip['q13'] = response_wip['q13'].cat.as_unordered()"
   ]
  },
  {
   "cell_type": "markdown",
   "metadata": {},
   "source": [
    "`q13` column also has `?` instead of `'` in categories. <br>\n",
    "We will also replace them."
   ]
  },
  {
   "cell_type": "code",
   "execution_count": 45,
   "metadata": {},
   "outputs": [],
   "source": [
    "response_wip['q13'] = response_wip['q13'].str.replace(\"?\", \"`\")"
   ]
  },
  {
   "cell_type": "markdown",
   "metadata": {},
   "source": [
    "##### Setting `q28` as unordered"
   ]
  },
  {
   "cell_type": "code",
   "execution_count": 46,
   "metadata": {},
   "outputs": [],
   "source": [
    "response_wip['q28'] = response_wip['q28'].cat.as_unordered()"
   ]
  },
  {
   "cell_type": "markdown",
   "metadata": {},
   "source": [
    "##### Setting `q30` as unordered"
   ]
  },
  {
   "cell_type": "code",
   "execution_count": 47,
   "metadata": {},
   "outputs": [],
   "source": [
    "response_wip['q30'] = response_wip['q30'].cat.as_unordered()"
   ]
  },
  {
   "cell_type": "markdown",
   "metadata": {},
   "source": [
    "##### Setting `q35` as unordered"
   ]
  },
  {
   "cell_type": "code",
   "execution_count": 48,
   "metadata": {},
   "outputs": [],
   "source": [
    "response_wip['q35'] = response_wip['q35'].cat.as_unordered()"
   ]
  },
  {
   "cell_type": "markdown",
   "metadata": {},
   "source": [
    "# Saving the cleaned dataframe"
   ]
  },
  {
   "cell_type": "code",
   "execution_count": 49,
   "metadata": {},
   "outputs": [],
   "source": [
    "response_wip.to_csv(\"cleaned/cleaned-responses.csv\", index=False)"
   ]
  }
 ],
 "metadata": {
  "kernelspec": {
   "display_name": "Python 3",
   "language": "python",
   "name": "python3"
  },
  "language_info": {
   "codemirror_mode": {
    "name": "ipython",
    "version": 3
   },
   "file_extension": ".py",
   "mimetype": "text/x-python",
   "name": "python",
   "nbconvert_exporter": "python",
   "pygments_lexer": "ipython3",
   "version": "3.7.3"
  }
 },
 "nbformat": 4,
 "nbformat_minor": 4
}
